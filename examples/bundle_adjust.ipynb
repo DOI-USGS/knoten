{
 "cells": [
  {
   "cell_type": "markdown",
   "metadata": {},
   "source": [
    "## Imports"
   ]
  },
  {
   "cell_type": "code",
   "execution_count": 1,
   "metadata": {},
   "outputs": [
    {
     "name": "stderr",
     "output_type": "stream",
     "text": [
      "/home/jmapel/.conda/envs/knoten/lib/python3.7/site-packages/ale/__init__.py:22: UserWarning: ALESPICEROOT environment variable not set, Spice Drivers will not function correctly\n",
      "  warnings.warn('ALESPICEROOT environment variable not set, Spice Drivers will not function correctly')\n"
     ]
    }
   ],
   "source": [
    "import os\n",
    "os.environ[\"ISISROOT\"] = \"/usgs/pkgs/isis3.7.0/install\"\n",
    "os.environ[\"ISIS3DATA\"] = \"/usgs/cpkgs/isis3/data\"\n",
    "from pysis import isis\n",
    "\n",
    "from plio.io import io_controlnetwork\n",
    "from knoten.csm import create_csm\n",
    "from scipy import sparse\n",
    "import ale\n",
    "import csmapi\n",
    "import numpy as np\n",
    "\n",
    "import matplotlib.pyplot as plt\n",
    "\n",
    "from knoten.bundle import *"
   ]
  },
  {
   "cell_type": "markdown",
   "metadata": {},
   "source": [
    "## Load Network and Generate Sensors"
   ]
  },
  {
   "cell_type": "code",
   "execution_count": 2,
   "metadata": {},
   "outputs": [],
   "source": [
    "cubes = 'data/cubes.lis'\n",
    "sensors = generate_sensors(cubes)\n",
    "\n",
    "network = 'data/hand_dense.net'\n",
    "cnet = io_controlnetwork.from_isis(network)\n",
    "cnet = compute_apriori_ground_points(cnet, sensors) # autoseed did not generate ground points, calculate and repopulate the data frame"
   ]
  },
  {
   "cell_type": "markdown",
   "metadata": {},
   "source": [
    "## Determine Which Sensor Parameters to Solve For"
   ]
  },
  {
   "cell_type": "code",
   "execution_count": 3,
   "metadata": {},
   "outputs": [
    {
     "name": "stdout",
     "output_type": "stream",
     "text": [
      "Image: MRO/CTX/1085197697:073\n",
      "  IT Pos. Bias    | 0 | 0.0\n",
      "  CT Pos. Bias    | 1 | 0.0\n",
      "  Rad Pos. Bias   | 2 | 0.0\n",
      "  IT Vel. Bias    | 3 | 0.0\n",
      "  CT Vel. Bias    | 4 | 0.0\n",
      "  Rad Vel. Bias   | 5 | 0.0\n",
      "  Omega Bias      | 6 | 0.0\n",
      "  Phi Bias        | 7 | 0.0\n",
      "  Kappa Bias      | 8 | 0.0\n",
      "  Omega Rate      | 9 | 0.0\n",
      "  Phi Rate        | 10 | 0.0\n",
      "  Kappa Rate      | 11 | 0.0\n",
      "  Omega Accl      | 12 | 0.0\n",
      "  Phi Accl        | 13 | 0.0\n",
      "  Kappa Accl      | 14 | 0.0\n",
      "  Focal Bias      | 15 | 0.0\n",
      "Image: MRO/CTX/1096561308:045\n",
      "  IT Pos. Bias    | 0 | 0.0\n",
      "  CT Pos. Bias    | 1 | 0.0\n",
      "  Rad Pos. Bias   | 2 | 0.0\n",
      "  IT Vel. Bias    | 3 | 0.0\n",
      "  CT Vel. Bias    | 4 | 0.0\n",
      "  Rad Vel. Bias   | 5 | 0.0\n",
      "  Omega Bias      | 6 | 0.0\n",
      "  Phi Bias        | 7 | 0.0\n",
      "  Kappa Bias      | 8 | 0.0\n",
      "  Omega Rate      | 9 | 0.0\n",
      "  Phi Rate        | 10 | 0.0\n",
      "  Kappa Rate      | 11 | 0.0\n",
      "  Omega Accl      | 12 | 0.0\n",
      "  Phi Accl        | 13 | 0.0\n",
      "  Kappa Accl      | 14 | 0.0\n",
      "  Focal Bias      | 15 | 0.0\n",
      "Image: MRO/CTX/1136952576:186\n",
      "  IT Pos. Bias    | 0 | 0.0\n",
      "  CT Pos. Bias    | 1 | 0.0\n",
      "  Rad Pos. Bias   | 2 | 0.0\n",
      "  IT Vel. Bias    | 3 | 0.0\n",
      "  CT Vel. Bias    | 4 | 0.0\n",
      "  Rad Vel. Bias   | 5 | 0.0\n",
      "  Omega Bias      | 6 | 0.0\n",
      "  Phi Bias        | 7 | 0.0\n",
      "  Kappa Bias      | 8 | 0.0\n",
      "  Omega Rate      | 9 | 0.0\n",
      "  Phi Rate        | 10 | 0.0\n",
      "  Kappa Rate      | 11 | 0.0\n",
      "  Omega Accl      | 12 | 0.0\n",
      "  Phi Accl        | 13 | 0.0\n",
      "  Kappa Accl      | 14 | 0.0\n",
      "  Focal Bias      | 15 | 0.0\n",
      "Image: MRO/CTX/1157902986:250\n",
      "  IT Pos. Bias    | 0 | 0.0\n",
      "  CT Pos. Bias    | 1 | 0.0\n",
      "  Rad Pos. Bias   | 2 | 0.0\n",
      "  IT Vel. Bias    | 3 | 0.0\n",
      "  CT Vel. Bias    | 4 | 0.0\n",
      "  Rad Vel. Bias   | 5 | 0.0\n",
      "  Omega Bias      | 6 | 0.0\n",
      "  Phi Bias        | 7 | 0.0\n",
      "  Kappa Bias      | 8 | 0.0\n",
      "  Omega Rate      | 9 | 0.0\n",
      "  Phi Rate        | 10 | 0.0\n",
      "  Kappa Rate      | 11 | 0.0\n",
      "  Omega Accl      | 12 | 0.0\n",
      "  Phi Accl        | 13 | 0.0\n",
      "  Kappa Accl      | 14 | 0.0\n",
      "  Focal Bias      | 15 | 0.0\n"
     ]
    }
   ],
   "source": [
    "all_parameters = {sn: get_sensor_parameters(sensor) for sn, sensor in sensors.items()}\n",
    "for sn, parameters in all_parameters.items():\n",
    "    print(f\"Image: {sn}\")\n",
    "    for param in parameters:\n",
    "        print(f\"  {param.name} | {param.index} | {param.value}\")"
   ]
  },
  {
   "cell_type": "code",
   "execution_count": 4,
   "metadata": {},
   "outputs": [],
   "source": [
    "# Solve for angles and angular rates\n",
    "solve_parameters = {sn: params[6:12] for sn, params in all_parameters.items()}"
   ]
  },
  {
   "cell_type": "markdown",
   "metadata": {},
   "source": [
    "## Compute the Column Indices for Parameters"
   ]
  },
  {
   "cell_type": "code",
   "execution_count": 9,
   "metadata": {},
   "outputs": [],
   "source": [
    "column_dict = compute_coefficient_columns(cnet, sensors, solve_parameters)\n",
    "num_parameters = max(col_range[1] for col_range in column_dict.values())"
   ]
  },
  {
   "cell_type": "markdown",
   "metadata": {
    "collapsed": true
   },
   "source": [
    "## Compute the Weight Matrix\n",
    "#### According to the weighted Normal equation (J.TWJ), W needs to be a square matrix the size of (# of measures)x2. So it is the weight of the observations. In ISIS, the weight of the observations are an inverted function of the size of the pixels on the focal plane (resolution). However, in csm we do not have access to that information. \n",
    "#### For the time being, since we are working exclusively with CTX images we are going to set the weight matrix equal to the identity matrix -> all observations have the same weight."
   ]
  },
  {
   "cell_type": "code",
   "execution_count": 11,
   "metadata": {},
   "outputs": [],
   "source": [
    "num_observations = 2 * len(cnet)\n",
    "W = np.eye(num_observations)\n",
    "param_W = compute_parameter_weights(cnet, sensors, solve_parameters, column_dict)"
   ]
  },
  {
   "cell_type": "markdown",
   "metadata": {},
   "source": [
    "## Calculate Initial Sigma0"
   ]
  },
  {
   "cell_type": "code",
   "execution_count": 12,
   "metadata": {},
   "outputs": [
    {
     "name": "stdout",
     "output_type": "stream",
     "text": [
      "4.204919720356099\n"
     ]
    }
   ],
   "source": [
    "V = compute_residuals(cnet, sensors)\n",
    "dof = num_observations - num_parameters\n",
    "sigma0 = np.sqrt((V.dot(W).dot(V))/dof)\n",
    "\n",
    "print(sigma0)"
   ]
  },
  {
   "cell_type": "markdown",
   "metadata": {},
   "source": [
    "## Populate Jacobian"
   ]
  },
  {
   "cell_type": "code",
   "execution_count": 13,
   "metadata": {},
   "outputs": [],
   "source": [
    "J = compute_jacobian(cnet, sensors, solve_parameters, column_dict)"
   ]
  },
  {
   "cell_type": "markdown",
   "metadata": {},
   "source": [
    "## Bundle Iteration"
   ]
  },
  {
   "cell_type": "code",
   "execution_count": 14,
   "metadata": {
    "scrolled": true
   },
   "outputs": [],
   "source": [
    "N = J.T.dot(W).dot(J) + param_W\n",
    "C = J.T.dot(W).dot(V)\n",
    "dX = np.linalg.inv(N).dot(C)"
   ]
  },
  {
   "cell_type": "markdown",
   "metadata": {},
   "source": [
    "## Calculate Updated Sigma0"
   ]
  },
  {
   "cell_type": "code",
   "execution_count": 15,
   "metadata": {},
   "outputs": [
    {
     "name": "stdout",
     "output_type": "stream",
     "text": [
      "0.8759391866290785\n"
     ]
    }
   ],
   "source": [
    "updated_sigma0 = np.sqrt((V.dot(W).dot(V) - dX.dot(J.T).dot(W).dot(V))/dof)\n",
    "print(updated_sigma0)"
   ]
  },
  {
   "cell_type": "markdown",
   "metadata": {},
   "source": [
    "## Redundancy Number"
   ]
  },
  {
   "cell_type": "code",
   "execution_count": null,
   "metadata": {},
   "outputs": [],
   "source": [
    "# redundancy for every measure\n",
    "# vector will hold same order as the measures in the cnet df\n",
    "# def compute_measure_redundancy\n",
    "Qxx = np.linalg.inv(N)\n",
    "Qvv = np.linalg.inv(W) - J.dot(Qxx).dot(J.T)\n",
    "r = np.diagonal(Qvv.dot(W))\n",
    "\n",
    "print(f'Minimum redundancy: {min(r)}')\n",
    "print(f'Maximum redundancy: {max(r)}')\n",
    "plt.boxplot(r)"
   ]
  },
  {
   "cell_type": "markdown",
   "metadata": {},
   "source": [
    "## Data Snooping"
   ]
  },
  {
   "cell_type": "code",
   "execution_count": null,
   "metadata": {},
   "outputs": [],
   "source": [
    "# For data snooping we need to calculate updated residuals\n",
    "qvv = np.diagonal(Qvv)\n",
    "sigma_vi = sigma0*np.sqrt(qvv)\n",
    "wi = -V/sigma_vi\n",
    "# k = 3.29 #critical values from Forstner\n",
    "k = 4.1 #cricital value from Baarda\n",
    "\n",
    "# plt.figure()\n",
    "# plt.boxplot(wi)\n",
    "plt.figure()\n",
    "plt.hist(wi[wi < k], bins=np.linspace(-4,5,50))\n",
    "plt.hist(wi[wi > k], bins=np.linspace(-4,5,50))"
   ]
  },
  {
   "cell_type": "markdown",
   "metadata": {},
   "source": [
    "## Update Sensors and Ground Points"
   ]
  },
  {
   "cell_type": "code",
   "execution_count": null,
   "metadata": {},
   "outputs": [],
   "source": [
    "# update the sensor partials\n",
    "for sn, sensor in sensors.items():\n",
    "    n_param = len(parameters[sn])\n",
    "    for i in range(n_param):\n",
    "        sensor.setParameterValue(i, dX[column_dict[sn]+i])\n",
    "        \n",
    "# update ground points\n",
    "for _, row in cnet.iterrows():\n",
    "    point_id = row['id']\n",
    "    ground_pt = row[['adjustedX', 'adjustedY', 'adjustedZ']].values\n",
    "    adj = dX[column_dict[point_id]:column_dict[point_id]+3] \n",
    "    cnet.loc[cnet.id == point_id, [\"adjustedX\", \"adjustedY\", \"adjustedZ\"]] = ground_pt + adj"
   ]
  },
  {
   "cell_type": "markdown",
   "metadata": {},
   "source": [
    "## Whole bundle process in a loop"
   ]
  },
  {
   "cell_type": "code",
   "execution_count": 29,
   "metadata": {},
   "outputs": [
    {
     "name": "stdout",
     "output_type": "stream",
     "text": [
      "iteration 0: sigma0 = 4.204919720356099\n",
      "\n",
      "corrections: mean = 0.5972006200859573 min = -16.530186637502926 max = 38.517963751145366\n",
      "iteration 1: sigma0 = 0.4798799074538198\n",
      "\n",
      "corrections: mean = -0.3157749722902711 min = -4.4345688181259355 max = 4.523000328679814\n",
      "iteration 2: sigma0 = 0.39384795864851363\n",
      "\n",
      "corrections: mean = -0.2859252196376692 min = -1.141908099175438 max = 0.9061197893446893\n",
      "iteration 3: sigma0 = 0.3871588619081049\n",
      "\n",
      "corrections: mean = -0.2721494666435455 min = -0.8335001186655998 max = 0.667190895177844\n",
      "iteration 4: sigma0 = 0.38552125886755745\n",
      "\n",
      "corrections: mean = -0.26730251212387945 min = -0.8895901221295787 max = 0.4811660090911366\n",
      "iteration 5: sigma0 = 0.3846843185729506\n",
      "\n",
      "corrections: mean = -0.26511616014593453 min = -0.8951575560847784 max = 0.34103587869234825\n",
      "iteration 6: sigma0 = 0.3841702166706269\n",
      "\n",
      "corrections: mean = -0.26356775399369237 min = -0.8909058234004009 max = 0.2776169395638875\n",
      "iteration 7: sigma0 = 0.38382380529992316\n",
      "\n",
      "corrections: mean = -0.2621357056693363 min = -0.8852456373376002 max = 0.2505061303975192\n",
      "iteration 8: sigma0 = 0.3835711017096062\n",
      "\n",
      "corrections: mean = -0.26071121013502835 min = -0.8796691190027243 max = 0.22614684263611437\n",
      "iteration 9: sigma0 = 0.3833739899496893\n",
      "\n",
      "corrections: mean = -0.2592815991117205 min = -0.8743084054095048 max = 0.21802509083260158\n",
      "iteration 10: sigma0 = 0.3832120439486617\n",
      "\n",
      "corrections: mean = -0.25785129874305596 min = -0.8690942269457389 max = 0.21691242865840324\n",
      "iteration 11: sigma0 = 0.3830738400303079\n",
      "\n",
      "corrections: mean = -0.2564250657345717 min = -0.8639650919277484 max = 0.2157809042471946\n",
      "iteration 12: sigma0 = 0.38295265056885347\n",
      "\n",
      "corrections: mean = -0.25500570756155755 min = -0.858887529905976 max = 0.21464218300933222\n",
      "iteration 13: sigma0 = 0.3828442704602245\n",
      "\n",
      "corrections: mean = -0.25359456110532336 min = -0.8538469402608427 max = 0.21350168136753891\n",
      "iteration 14: sigma0 = 0.3827459017426948\n",
      "\n",
      "corrections: mean = -0.2521921293355773 min = -0.8488386477662819 max = 0.21236228708638663\n",
      "iteration 15: sigma0 = 0.38265557009574447\n",
      "\n"
     ]
    }
   ],
   "source": [
    "sensors = generate_sensors(cubes) # generate sensors\n",
    "cnet = io_controlnetwork.from_isis(network) # load in network\n",
    "cnet = compute_apriori_ground_points(cnet, sensors) # calculate ground points\n",
    "\n",
    "### INPUTS ###\n",
    "all_parameters = {sn: get_sensor_parameters(sensor) for sn, sensor in sensors.items()} #all parameters\n",
    "parameters = {sn: parameter[6:12] for sn, parameter in all_parameters.items()} #just solving for camera angles and angle velocity\n",
    "tol = 1e-5\n",
    "##############\n",
    "\n",
    "num_parameters = max(col_range[1] for col_range in column_dict.values())\n",
    "num_observations = 2 * len(cnet)\n",
    "column_dict = compute_coefficient_columns(cnet, sensors, parameters)\n",
    "W = np.eye(num_observations)\n",
    "W_params = compute_parameter_weights(cnet, sensors, parameters, column_dict)\n",
    "\n",
    "iteration = 0\n",
    "V = compute_residuals(cnet, sensors)\n",
    "dof = num_observations - num_parameters\n",
    "sigma0 = np.sqrt((V.dot(W).dot(V))/dof)\n",
    "print(f'iteration {iteration}: sigma0 = {sigma0}\\n')\n",
    "\n",
    "# while abs(sigma0-old_sigma0) < tol:\n",
    "max_iterations = 15\n",
    "for i in range(max_iterations):   \n",
    "    iteration += 1\n",
    "    old_sigma0 = sigma0\n",
    "    \n",
    "    J = compute_jacobian(cnet, sensors, parameters, column_dict)    \n",
    "    N = J.T.dot(W).dot(J) + W_params # calculate the normal equation\n",
    "    C = J.T.dot(W).dot(V) \n",
    "    dX = np.linalg.inv(N).dot(C) #calculate change in camera parameters and ground points\n",
    "    print(f'corrections: mean = {dX.mean()} min = {dX.min()} max = {dX.max()}')\n",
    "    \n",
    "    # update the sensor parameters\n",
    "    for sn, sensor in sensors.items():\n",
    "        n_param = len(parameters[sn])\n",
    "        for i in range(n_param):\n",
    "            old_param = sensor.getParameterValue(parameters[sn][i].index)\n",
    "            sensor.setParameterValue(parameters[sn][i].index, old_param+dX[column_dict[sn][0]+i])\n",
    "\n",
    "    # update ground points\n",
    "    for _, row in cnet.iterrows():\n",
    "        point_id = row['id']\n",
    "        ground_pt = row[['adjustedX', 'adjustedY', 'adjustedZ']].values\n",
    "        adj = dX[column_dict[point_id][0]:column_dict[point_id][1]]\n",
    "        cnet.loc[cnet.id == point_id, [\"adjustedX\", \"adjustedY\", \"adjustedZ\"]] = ground_pt + adj\n",
    "\n",
    "    V = compute_residuals(cnet, sensors)\n",
    "    sigma0 = np.sqrt((V.dot(W).dot(V) - )/dof)\n",
    "    print(f'iteration {iteration}: sigma0 = {sigma0}\\n')\n",
    "    \n",
    "    if (abs(sigma0 - old_sigma0) < tol):\n",
    "        print(f'change in sigma0 of {abs(sigma0 - old_sigma0)} converged!')\n",
    "        break\n",
    "    "
   ]
  },
  {
   "cell_type": "code",
   "execution_count": null,
   "metadata": {},
   "outputs": [],
   "source": []
  }
 ],
 "metadata": {
  "kernelspec": {
   "display_name": "Python 3",
   "language": "python",
   "name": "python3"
  },
  "language_info": {
   "codemirror_mode": {
    "name": "ipython",
    "version": 3
   },
   "file_extension": ".py",
   "mimetype": "text/x-python",
   "name": "python",
   "nbconvert_exporter": "python",
   "pygments_lexer": "ipython3",
   "version": "3.7.6"
  }
 },
 "nbformat": 4,
 "nbformat_minor": 2
}
