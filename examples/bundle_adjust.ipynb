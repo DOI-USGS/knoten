{
 "cells": [
  {
   "cell_type": "markdown",
   "metadata": {},
   "source": [
    "## Imports"
   ]
  },
  {
   "cell_type": "code",
   "execution_count": null,
   "metadata": {},
   "outputs": [],
   "source": [
    "import os\n",
    "os.environ[\"ISISROOT\"] = \"/usgs/pkgs/isis3.7.0/install\"\n",
    "os.environ[\"ISIS3DATA\"] = \"/usgs/cpkgs/isis3/data\"\n",
    "from pysis import isis\n",
    "\n",
    "from plio.io import io_controlnetwork\n",
    "from knoten.csm import create_csm\n",
    "from scipy import sparse\n",
    "import ale\n",
    "import csmapi\n",
    "import numpy as np\n",
    "\n",
    "import matplotlib.pyplot as plt\n",
    "\n",
    "from knoten.bundle import *"
   ]
  },
  {
   "cell_type": "markdown",
   "metadata": {},
   "source": [
    "## Load Network and Generate Sensors"
   ]
  },
  {
   "cell_type": "code",
   "execution_count": null,
   "metadata": {},
   "outputs": [],
   "source": [
    "cubes = 'data_lak/cubes.lis'\n",
    "sensors = generate_sensors(cubes)\n",
    "\n",
    "network = 'data_lak/hand_dense.net'\n",
    "cnet = io_controlnetwork.from_isis(network)\n",
    "cnet = compute_apriori_ground_points(cnet, sensors) # autoseed did not generate ground points, calculate and repopulate the data frame"
   ]
  },
  {
   "cell_type": "markdown",
   "metadata": {
    "collapsed": true
   },
   "source": [
    "## Compute the Weight Matrix\n",
    "#### According to the weighted Normal equation (J.TWJ), W needs to be a square matrix the size of (# of measures)x2. So it is the weight of the observations. In ISIS, the weight of the observations are an inverted function of the size of the pixels on the focal plane (resolution). However, in csm we do not have access to that information. \n",
    "#### For the time being, since we are working exclusively with CTX images we are going to set the weight matrix equal to the identity matrix -> all observations have the same weight."
   ]
  },
  {
   "cell_type": "code",
   "execution_count": null,
   "metadata": {
    "collapsed": true
   },
   "outputs": [],
   "source": [
    "W = np.eye(260)"
   ]
  },
  {
   "cell_type": "markdown",
   "metadata": {},
   "source": [
    "## Calculate Initial Sigma0"
   ]
  },
  {
   "cell_type": "code",
   "execution_count": null,
   "metadata": {},
   "outputs": [],
   "source": [
    "V = compute_residuals(cnet, sensors)\n",
    "dof = J.shape[0] - J.shape[1]\n",
    "sigma0 = np.sqrt((V.dot(W).dot(V))/dof)\n",
    "\n",
    "print(sigma0)"
   ]
  },
  {
   "cell_type": "markdown",
   "metadata": {},
   "source": [
    "## Populate Jacobian"
   ]
  },
  {
   "cell_type": "code",
   "execution_count": null,
   "metadata": {
    "collapsed": true
   },
   "outputs": [],
   "source": [
    "all_parameters = {sn: get_sensor_parameters(sensor) for sn, sensor in sensors.items()} #all parameters\n",
    "parameters = {sn: parameter[6:12] for sn, parameter in all_parameters.items()} #just solvi\n",
    "J, column_dict = compute_jacobian(cnet, sensors, parameters)"
   ]
  },
  {
   "cell_type": "markdown",
   "metadata": {},
   "source": [
    "## Bundle Iteration"
   ]
  },
  {
   "cell_type": "code",
   "execution_count": null,
   "metadata": {
    "scrolled": true
   },
   "outputs": [],
   "source": [
    "N = J.T.dot(W).dot(J)\n",
    "C = J.T.dot(W).dot(V)\n",
    "dX = np.linalg.inv(N).dot(C)\n",
    "print(dX)"
   ]
  },
  {
   "cell_type": "markdown",
   "metadata": {},
   "source": [
    "## Redundancy Number"
   ]
  },
  {
   "cell_type": "code",
   "execution_count": null,
   "metadata": {},
   "outputs": [],
   "source": [
    "# redundancy for every measure\n",
    "# vector will hold same order as the measures in the cnet df\n",
    "# def compute_measure_redundancy\n",
    "Qxx = np.linalg.inv(N)\n",
    "Qvv = np.linalg.inv(W) - J.dot(Qxx).dot(J.T)\n",
    "r = np.diagonal(Qvv.dot(W))\n",
    "\n",
    "print(f'Minimum redundancy: {min(r)}')\n",
    "print(f'Maximum redundancy: {max(r)}')\n",
    "plt.boxplot(r)"
   ]
  },
  {
   "cell_type": "markdown",
   "metadata": {},
   "source": [
    "## Data Snooping"
   ]
  },
  {
   "cell_type": "code",
   "execution_count": null,
   "metadata": {},
   "outputs": [],
   "source": [
    "# For data snooping we need to calculate updated residuals\n",
    "qvv = np.diagonal(Qvv)\n",
    "sigma_vi = sigma0*np.sqrt(qvv)\n",
    "wi = -V/sigma_vi\n",
    "# k = 3.29 #critical values from Forstner\n",
    "k = 4.1 #cricital value from Baarda\n",
    "\n",
    "# plt.figure()\n",
    "# plt.boxplot(wi)\n",
    "plt.figure()\n",
    "plt.hist(wi[wi < k], bins=np.linspace(-4,5,50))\n",
    "plt.hist(wi[wi > k], bins=np.linspace(-4,5,50))"
   ]
  },
  {
   "cell_type": "markdown",
   "metadata": {},
   "source": [
    "## Update Sensors and Ground Points"
   ]
  },
  {
   "cell_type": "code",
   "execution_count": null,
   "metadata": {
    "collapsed": true
   },
   "outputs": [],
   "source": [
    "# update the sensor partials\n",
    "for sn, sensor in sensors.items():\n",
    "    n_param = len(parameters[sn])\n",
    "    for i in range(n_param):\n",
    "        sensor.setParameterValue(i, dX[column_dict[sn]+i])\n",
    "        \n",
    "# update ground points\n",
    "for _, row in cnet.iterrows():\n",
    "    point_id = row['id']\n",
    "    ground_pt = row[['adjustedX', 'adjustedY', 'adjustedZ']].values\n",
    "    adj = dX[column_dict[point_id]:column_dict[point_id]+3] \n",
    "    cnet.loc[cnet.id == point_id, [\"adjustedX\", \"adjustedY\", \"adjustedZ\"]] = ground_pt + adj"
   ]
  },
  {
   "cell_type": "markdown",
   "metadata": {},
   "source": [
    "## Whole bundle process in a loop"
   ]
  },
  {
   "cell_type": "code",
   "execution_count": null,
   "metadata": {},
   "outputs": [],
   "source": [
    "sensors = generate_sensors(cubes) # generate sensors\n",
    "cnet = io_controlnetwork.from_isis(network) # load in network\n",
    "cnet = compute_apriori_ground_points(cnet, sensors) # calculate ground points\n",
    "\n",
    "### INPUTS ###\n",
    "all_parameters = {sn: get_sensor_parameters(sensor) for sn, sensor in sensors.items()} #all parameters\n",
    "parameters = {sn: parameter[6:12] for sn, parameter in all_parameters.items()} #just solving for camera angles and angle velocity\n",
    "W = np.eye(260)\n",
    "tol = 1\n",
    "\n",
    "##############\n",
    "\n",
    "iteration = 0\n",
    "V = compute_residuals(cnet, sensors)\n",
    "dof = J.shape[0] - J.shape[1]\n",
    "sigma0 = np.sqrt((V.dot(W).dot(V))/dof)\n",
    "print(f'iteration {iteration}: sigma0 = {sigma0}\\n')\n",
    "\n",
    "# while abs(sigma0-old_sigma0) < tol:\n",
    "iterations = 3\n",
    "for i in range(iterations):   \n",
    "    iteration += 1\n",
    "    old_sigma0 = sigma0\n",
    "    \n",
    "    J, column_dict = compute_jacobian(cnet, sensors, parameters)    \n",
    "    N = J.T.dot(W).dot(J) # calculate the normal equation\n",
    "    C = J.T.dot(W).dot(V) \n",
    "    dX = np.linalg.inv(N).dot(C) #calculate change in camera parameters and ground points\n",
    "    print(f'corrections: mean = {dX.mean()} min = {dX.min()} max = {dX.max()}')\n",
    "    \n",
    "    # update the sensor parameters\n",
    "    for sn, sensor in sensors.items():\n",
    "        n_param = len(parameters[sn])\n",
    "        for i in range(n_param):\n",
    "            old_param = sensor.getParameterValue(i)\n",
    "            sensor.setParameterValue(i, old_param+dX[column_dict[sn]+i])\n",
    "\n",
    "    # update ground points\n",
    "    for _, row in cnet.iterrows():\n",
    "        point_id = row['id']\n",
    "        ground_pt = row[['adjustedX', 'adjustedY', 'adjustedZ']].values\n",
    "        adj = dX[column_dict[point_id]:column_dict[point_id]+3] \n",
    "        cnet.loc[cnet.id == point_id, [\"adjustedX\", \"adjustedY\", \"adjustedZ\"]] = ground_pt + adj\n",
    "\n",
    "    V = compute_residuals(cnet, sensors)\n",
    "    dof = J.shape[0] - J.shape[1]\n",
    "    sigma0 = np.sqrt((V.dot(W).dot(V))/dof)\n",
    "    print(f'iteration {iteration}: sigma0 = {sigma0}\\n')\n",
    "    "
   ]
  }
 ],
 "metadata": {
  "kernelspec": {
   "display_name": "csm_local",
   "language": "python",
   "name": "csm_local"
  },
  "language_info": {
   "codemirror_mode": {
    "name": "ipython",
    "version": 3
   },
   "file_extension": ".py",
   "mimetype": "text/x-python",
   "name": "python",
   "nbconvert_exporter": "python",
   "pygments_lexer": "ipython3",
   "version": "3.7.6"
  }
 },
 "nbformat": 4,
 "nbformat_minor": 2
}
