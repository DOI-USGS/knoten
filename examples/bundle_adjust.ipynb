{
 "cells": [
  {
   "cell_type": "markdown",
   "metadata": {},
   "source": [
    "## Imports"
   ]
  },
  {
   "cell_type": "code",
   "execution_count": 1,
   "metadata": {},
   "outputs": [
    {
     "name": "stderr",
     "output_type": "stream",
     "text": [
      "/home/ladoramkershner/miniconda3/envs/csm_local/lib/python3.7/site-packages/ale/__init__.py:22: UserWarning: ALESPICEROOT environment variable not set, Spice Drivers will not function correctly\n",
      "  warnings.warn('ALESPICEROOT environment variable not set, Spice Drivers will not function correctly')\n"
     ]
    }
   ],
   "source": [
    "from plio.io import io_controlnetwork\n",
    "from knoten.csm import create_csm\n",
    "from scipy import sparse\n",
    "import ale\n",
    "import csmapi\n",
    "import os\n",
    "import numpy as np"
   ]
  },
  {
   "cell_type": "code",
   "execution_count": 2,
   "metadata": {
    "collapsed": true
   },
   "outputs": [],
   "source": [
    "os.environ[\"ISISROOT\"] = \"/usgs/pkgs/isis3.7.0/install\"\n",
    "os.environ[\"ISIS3DATA\"] = \"/usgs/cpkgs/isis3/data\"\n",
    "from pysis import isis"
   ]
  },
  {
   "cell_type": "markdown",
   "metadata": {},
   "source": [
    "### Point to your Network (Only Variables that vary cnet to cnet)"
   ]
  },
  {
   "cell_type": "code",
   "execution_count": 3,
   "metadata": {
    "collapsed": true
   },
   "outputs": [],
   "source": [
    "network = 'data_lak/hand_dense.net'\n",
    "cubes = 'data_lak/cubes.lis'"
   ]
  },
  {
   "cell_type": "markdown",
   "metadata": {},
   "source": [
    "### Load Network"
   ]
  },
  {
   "cell_type": "code",
   "execution_count": 4,
   "metadata": {},
   "outputs": [
    {
     "data": {
      "text/html": [
       "<div>\n",
       "<style scoped>\n",
       "    .dataframe tbody tr th:only-of-type {\n",
       "        vertical-align: middle;\n",
       "    }\n",
       "\n",
       "    .dataframe tbody tr th {\n",
       "        vertical-align: top;\n",
       "    }\n",
       "\n",
       "    .dataframe thead th {\n",
       "        text-align: right;\n",
       "    }\n",
       "</style>\n",
       "<table border=\"1\" class=\"dataframe\">\n",
       "  <thead>\n",
       "    <tr style=\"text-align: right;\">\n",
       "      <th></th>\n",
       "      <th>id</th>\n",
       "      <th>pointType</th>\n",
       "      <th>pointChoosername</th>\n",
       "      <th>pointDatetime</th>\n",
       "      <th>pointEditLock</th>\n",
       "      <th>pointIgnore</th>\n",
       "      <th>pointJigsawRejected</th>\n",
       "      <th>referenceIndex</th>\n",
       "      <th>aprioriSurfPointSource</th>\n",
       "      <th>aprioriSurfPointSourceFile</th>\n",
       "      <th>...</th>\n",
       "      <th>measureDatetime</th>\n",
       "      <th>measureEditLock</th>\n",
       "      <th>measureIgnore</th>\n",
       "      <th>measureJigsawRejected</th>\n",
       "      <th>diameter</th>\n",
       "      <th>apriorisample</th>\n",
       "      <th>aprioriline</th>\n",
       "      <th>samplesigma</th>\n",
       "      <th>linesigma</th>\n",
       "      <th>measureLog</th>\n",
       "    </tr>\n",
       "  </thead>\n",
       "  <tbody>\n",
       "    <tr>\n",
       "      <th>0</th>\n",
       "      <td>autoseed_001</td>\n",
       "      <td>2</td>\n",
       "      <td>autoseed</td>\n",
       "      <td>2019-12-06T10:19:12</td>\n",
       "      <td>False</td>\n",
       "      <td>False</td>\n",
       "      <td>False</td>\n",
       "      <td>0</td>\n",
       "      <td>0</td>\n",
       "      <td></td>\n",
       "      <td>...</td>\n",
       "      <td>2019-12-06T10:19:12</td>\n",
       "      <td>False</td>\n",
       "      <td>False</td>\n",
       "      <td>False</td>\n",
       "      <td>0.0</td>\n",
       "      <td>201.356777</td>\n",
       "      <td>302.569131</td>\n",
       "      <td>0.0</td>\n",
       "      <td>0.0</td>\n",
       "      <td>[]</td>\n",
       "    </tr>\n",
       "    <tr>\n",
       "      <th>1</th>\n",
       "      <td>autoseed_001</td>\n",
       "      <td>2</td>\n",
       "      <td>autoseed</td>\n",
       "      <td>2019-12-06T10:19:12</td>\n",
       "      <td>False</td>\n",
       "      <td>False</td>\n",
       "      <td>False</td>\n",
       "      <td>0</td>\n",
       "      <td>0</td>\n",
       "      <td></td>\n",
       "      <td>...</td>\n",
       "      <td>2019-12-06T10:19:12</td>\n",
       "      <td>False</td>\n",
       "      <td>False</td>\n",
       "      <td>False</td>\n",
       "      <td>0.0</td>\n",
       "      <td>754.094710</td>\n",
       "      <td>15168.130157</td>\n",
       "      <td>0.0</td>\n",
       "      <td>0.0</td>\n",
       "      <td>[]</td>\n",
       "    </tr>\n",
       "    <tr>\n",
       "      <th>2</th>\n",
       "      <td>autoseed_001</td>\n",
       "      <td>2</td>\n",
       "      <td>autoseed</td>\n",
       "      <td>2019-12-06T10:19:12</td>\n",
       "      <td>False</td>\n",
       "      <td>False</td>\n",
       "      <td>False</td>\n",
       "      <td>0</td>\n",
       "      <td>0</td>\n",
       "      <td></td>\n",
       "      <td>...</td>\n",
       "      <td>2019-12-06T10:19:12</td>\n",
       "      <td>False</td>\n",
       "      <td>False</td>\n",
       "      <td>False</td>\n",
       "      <td>0.0</td>\n",
       "      <td>399.936010</td>\n",
       "      <td>13312.074608</td>\n",
       "      <td>0.0</td>\n",
       "      <td>0.0</td>\n",
       "      <td>[]</td>\n",
       "    </tr>\n",
       "    <tr>\n",
       "      <th>3</th>\n",
       "      <td>autoseed_002</td>\n",
       "      <td>2</td>\n",
       "      <td>autoseed</td>\n",
       "      <td>2019-12-06T10:19:12</td>\n",
       "      <td>False</td>\n",
       "      <td>False</td>\n",
       "      <td>False</td>\n",
       "      <td>0</td>\n",
       "      <td>0</td>\n",
       "      <td></td>\n",
       "      <td>...</td>\n",
       "      <td>2019-12-06T10:19:12</td>\n",
       "      <td>False</td>\n",
       "      <td>False</td>\n",
       "      <td>False</td>\n",
       "      <td>0.0</td>\n",
       "      <td>1926.464206</td>\n",
       "      <td>96.383931</td>\n",
       "      <td>0.0</td>\n",
       "      <td>0.0</td>\n",
       "      <td>[]</td>\n",
       "    </tr>\n",
       "    <tr>\n",
       "      <th>4</th>\n",
       "      <td>autoseed_002</td>\n",
       "      <td>2</td>\n",
       "      <td>autoseed</td>\n",
       "      <td>2019-12-06T10:19:12</td>\n",
       "      <td>False</td>\n",
       "      <td>False</td>\n",
       "      <td>False</td>\n",
       "      <td>0</td>\n",
       "      <td>0</td>\n",
       "      <td></td>\n",
       "      <td>...</td>\n",
       "      <td>2019-12-06T10:19:12</td>\n",
       "      <td>False</td>\n",
       "      <td>False</td>\n",
       "      <td>False</td>\n",
       "      <td>0.0</td>\n",
       "      <td>2100.233957</td>\n",
       "      <td>14938.826738</td>\n",
       "      <td>0.0</td>\n",
       "      <td>0.0</td>\n",
       "      <td>[]</td>\n",
       "    </tr>\n",
       "    <tr>\n",
       "      <th>...</th>\n",
       "      <td>...</td>\n",
       "      <td>...</td>\n",
       "      <td>...</td>\n",
       "      <td>...</td>\n",
       "      <td>...</td>\n",
       "      <td>...</td>\n",
       "      <td>...</td>\n",
       "      <td>...</td>\n",
       "      <td>...</td>\n",
       "      <td>...</td>\n",
       "      <td>...</td>\n",
       "      <td>...</td>\n",
       "      <td>...</td>\n",
       "      <td>...</td>\n",
       "      <td>...</td>\n",
       "      <td>...</td>\n",
       "      <td>...</td>\n",
       "      <td>...</td>\n",
       "      <td>...</td>\n",
       "      <td>...</td>\n",
       "      <td>...</td>\n",
       "    </tr>\n",
       "    <tr>\n",
       "      <th>125</th>\n",
       "      <td>hand_15</td>\n",
       "      <td>2</td>\n",
       "      <td>ladoramkershner</td>\n",
       "      <td>2019-12-11T16:05:47</td>\n",
       "      <td>False</td>\n",
       "      <td>False</td>\n",
       "      <td>False</td>\n",
       "      <td>0</td>\n",
       "      <td>0</td>\n",
       "      <td></td>\n",
       "      <td>...</td>\n",
       "      <td>2019-12-11T16:05:47</td>\n",
       "      <td>False</td>\n",
       "      <td>False</td>\n",
       "      <td>False</td>\n",
       "      <td>0.0</td>\n",
       "      <td>2413.917268</td>\n",
       "      <td>22462.671510</td>\n",
       "      <td>0.0</td>\n",
       "      <td>0.0</td>\n",
       "      <td>[]</td>\n",
       "    </tr>\n",
       "    <tr>\n",
       "      <th>126</th>\n",
       "      <td>hand_15</td>\n",
       "      <td>2</td>\n",
       "      <td>ladoramkershner</td>\n",
       "      <td>2019-12-11T16:05:47</td>\n",
       "      <td>False</td>\n",
       "      <td>False</td>\n",
       "      <td>False</td>\n",
       "      <td>0</td>\n",
       "      <td>0</td>\n",
       "      <td></td>\n",
       "      <td>...</td>\n",
       "      <td>2019-12-11T16:05:47</td>\n",
       "      <td>False</td>\n",
       "      <td>False</td>\n",
       "      <td>False</td>\n",
       "      <td>0.0</td>\n",
       "      <td>2445.984758</td>\n",
       "      <td>24263.903615</td>\n",
       "      <td>0.0</td>\n",
       "      <td>0.0</td>\n",
       "      <td>[]</td>\n",
       "    </tr>\n",
       "    <tr>\n",
       "      <th>127</th>\n",
       "      <td>hand_16</td>\n",
       "      <td>2</td>\n",
       "      <td>ladoramkershner</td>\n",
       "      <td>2019-12-12T08:09:54</td>\n",
       "      <td>False</td>\n",
       "      <td>False</td>\n",
       "      <td>False</td>\n",
       "      <td>1</td>\n",
       "      <td>0</td>\n",
       "      <td></td>\n",
       "      <td>...</td>\n",
       "      <td>2019-12-12T08:09:54</td>\n",
       "      <td>False</td>\n",
       "      <td>False</td>\n",
       "      <td>False</td>\n",
       "      <td>0.0</td>\n",
       "      <td>3843.915024</td>\n",
       "      <td>24115.819511</td>\n",
       "      <td>0.0</td>\n",
       "      <td>0.0</td>\n",
       "      <td>[]</td>\n",
       "    </tr>\n",
       "    <tr>\n",
       "      <th>128</th>\n",
       "      <td>hand_16</td>\n",
       "      <td>2</td>\n",
       "      <td>ladoramkershner</td>\n",
       "      <td>2019-12-12T08:09:54</td>\n",
       "      <td>False</td>\n",
       "      <td>False</td>\n",
       "      <td>False</td>\n",
       "      <td>1</td>\n",
       "      <td>0</td>\n",
       "      <td></td>\n",
       "      <td>...</td>\n",
       "      <td>2019-12-12T08:09:54</td>\n",
       "      <td>False</td>\n",
       "      <td>False</td>\n",
       "      <td>False</td>\n",
       "      <td>0.0</td>\n",
       "      <td>4009.638555</td>\n",
       "      <td>9314.698759</td>\n",
       "      <td>0.0</td>\n",
       "      <td>0.0</td>\n",
       "      <td>[]</td>\n",
       "    </tr>\n",
       "    <tr>\n",
       "      <th>129</th>\n",
       "      <td>hand_16</td>\n",
       "      <td>2</td>\n",
       "      <td>ladoramkershner</td>\n",
       "      <td>2019-12-12T08:09:54</td>\n",
       "      <td>False</td>\n",
       "      <td>False</td>\n",
       "      <td>False</td>\n",
       "      <td>1</td>\n",
       "      <td>0</td>\n",
       "      <td></td>\n",
       "      <td>...</td>\n",
       "      <td>2019-12-12T08:09:54</td>\n",
       "      <td>False</td>\n",
       "      <td>False</td>\n",
       "      <td>False</td>\n",
       "      <td>0.0</td>\n",
       "      <td>4158.865683</td>\n",
       "      <td>22350.726143</td>\n",
       "      <td>0.0</td>\n",
       "      <td>0.0</td>\n",
       "      <td>[]</td>\n",
       "    </tr>\n",
       "  </tbody>\n",
       "</table>\n",
       "<p>130 rows × 41 columns</p>\n",
       "</div>"
      ],
      "text/plain": [
       "               id  pointType pointChoosername        pointDatetime  \\\n",
       "0    autoseed_001          2         autoseed  2019-12-06T10:19:12   \n",
       "1    autoseed_001          2         autoseed  2019-12-06T10:19:12   \n",
       "2    autoseed_001          2         autoseed  2019-12-06T10:19:12   \n",
       "3    autoseed_002          2         autoseed  2019-12-06T10:19:12   \n",
       "4    autoseed_002          2         autoseed  2019-12-06T10:19:12   \n",
       "..            ...        ...              ...                  ...   \n",
       "125       hand_15          2  ladoramkershner  2019-12-11T16:05:47   \n",
       "126       hand_15          2  ladoramkershner  2019-12-11T16:05:47   \n",
       "127       hand_16          2  ladoramkershner  2019-12-12T08:09:54   \n",
       "128       hand_16          2  ladoramkershner  2019-12-12T08:09:54   \n",
       "129       hand_16          2  ladoramkershner  2019-12-12T08:09:54   \n",
       "\n",
       "     pointEditLock  pointIgnore  pointJigsawRejected  referenceIndex  \\\n",
       "0            False        False                False               0   \n",
       "1            False        False                False               0   \n",
       "2            False        False                False               0   \n",
       "3            False        False                False               0   \n",
       "4            False        False                False               0   \n",
       "..             ...          ...                  ...             ...   \n",
       "125          False        False                False               0   \n",
       "126          False        False                False               0   \n",
       "127          False        False                False               1   \n",
       "128          False        False                False               1   \n",
       "129          False        False                False               1   \n",
       "\n",
       "     aprioriSurfPointSource aprioriSurfPointSourceFile  ...  \\\n",
       "0                         0                             ...   \n",
       "1                         0                             ...   \n",
       "2                         0                             ...   \n",
       "3                         0                             ...   \n",
       "4                         0                             ...   \n",
       "..                      ...                        ...  ...   \n",
       "125                       0                             ...   \n",
       "126                       0                             ...   \n",
       "127                       0                             ...   \n",
       "128                       0                             ...   \n",
       "129                       0                             ...   \n",
       "\n",
       "         measureDatetime measureEditLock  measureIgnore  \\\n",
       "0    2019-12-06T10:19:12           False          False   \n",
       "1    2019-12-06T10:19:12           False          False   \n",
       "2    2019-12-06T10:19:12           False          False   \n",
       "3    2019-12-06T10:19:12           False          False   \n",
       "4    2019-12-06T10:19:12           False          False   \n",
       "..                   ...             ...            ...   \n",
       "125  2019-12-11T16:05:47           False          False   \n",
       "126  2019-12-11T16:05:47           False          False   \n",
       "127  2019-12-12T08:09:54           False          False   \n",
       "128  2019-12-12T08:09:54           False          False   \n",
       "129  2019-12-12T08:09:54           False          False   \n",
       "\n",
       "     measureJigsawRejected  diameter  apriorisample   aprioriline  \\\n",
       "0                    False       0.0     201.356777    302.569131   \n",
       "1                    False       0.0     754.094710  15168.130157   \n",
       "2                    False       0.0     399.936010  13312.074608   \n",
       "3                    False       0.0    1926.464206     96.383931   \n",
       "4                    False       0.0    2100.233957  14938.826738   \n",
       "..                     ...       ...            ...           ...   \n",
       "125                  False       0.0    2413.917268  22462.671510   \n",
       "126                  False       0.0    2445.984758  24263.903615   \n",
       "127                  False       0.0    3843.915024  24115.819511   \n",
       "128                  False       0.0    4009.638555   9314.698759   \n",
       "129                  False       0.0    4158.865683  22350.726143   \n",
       "\n",
       "     samplesigma linesigma  measureLog  \n",
       "0            0.0       0.0          []  \n",
       "1            0.0       0.0          []  \n",
       "2            0.0       0.0          []  \n",
       "3            0.0       0.0          []  \n",
       "4            0.0       0.0          []  \n",
       "..           ...       ...         ...  \n",
       "125          0.0       0.0          []  \n",
       "126          0.0       0.0          []  \n",
       "127          0.0       0.0          []  \n",
       "128          0.0       0.0          []  \n",
       "129          0.0       0.0          []  \n",
       "\n",
       "[130 rows x 41 columns]"
      ]
     },
     "execution_count": 4,
     "metadata": {},
     "output_type": "execute_result"
    }
   ],
   "source": [
    "df = io_controlnetwork.from_isis(network)\n",
    "# df = df[df['serialnumber'] == 'MRO/CTX/1085197697:073']\n",
    "# df['serialnumber'].unique()\n",
    "df"
   ]
  },
  {
   "cell_type": "markdown",
   "metadata": {},
   "source": [
    "### Generate Sensors and Ground Points\n",
    "#### For some reason, autoseed does not generate ground points for the control network, we have to calculate"
   ]
  },
  {
   "cell_type": "code",
   "execution_count": 5,
   "metadata": {
    "collapsed": true
   },
   "outputs": [],
   "source": [
    "def generate_sensors(cubes):\n",
    "    isd_files = []\n",
    "    sensors = {}\n",
    "    for line in open(cubes):\n",
    "        basename = os.path.splitext(os.path.basename(line.strip()))[0]\n",
    "        isd = os.path.join('data_lak',basename+'.json')\n",
    "        isd_files.append(isd)\n",
    "        with open(isd, 'w+') as f:\n",
    "            f.write(ale.loads(line.strip(), formatter='usgscsm'))\n",
    "\n",
    "        sn = isis.getsn(from_=line.strip()).strip().decode('utf-8')\n",
    "        sensors[sn] = create_csm(isd)\n",
    "    return sensors\n",
    "\n",
    "def compute_ground_points_closestApproachDistance(df, sensors):\n",
    "    '''\n",
    "    df: control network data frame\n",
    "    sensors: dict mapping serial numbers to CSM sensor models\n",
    "\n",
    "    returns: dict mapping point IDs to ground points\n",
    "    '''\n",
    "    ground_points = {}\n",
    "    for point_id, group in df.groupby('id'):\n",
    "        num_measures = len(group)\n",
    "        design_mat = np.zeros((num_measures*3,3))\n",
    "        rhs = np.zeros((num_measures*3))\n",
    "        for i in range(num_measures):\n",
    "            row = group.iloc[i]\n",
    "            measure = csmapi.ImageCoord(row['line'], row['sample'])\n",
    "            locus = sensors[row['serialnumber']].imageToRemoteImagingLocus(measure)\n",
    "            a = np.array([locus.point.x, locus.point.y, locus.point.z])\n",
    "            d = np.array([locus.direction.x, locus.direction.y, locus.direction.z])\n",
    "            d = d / np.linalg.norm(d)\n",
    "            design_mat[3*i:3*i+3] = np.identity(3) - np.matmul(np.reshape(d, (3,1)), np.reshape(d,(1,3)))\n",
    "            rhs[3*i:3*i+3] = np.dot(a,d)*d - a\n",
    "        normal_mat = np.dot(design_mat.T, design_mat)\n",
    "        ground_points[point_id] = np.dot(np.linalg.inv(normal_mat), np.dot(design_mat.T, rhs))\n",
    "    return ground_points\n",
    "\n",
    "def compute_ground_points_projection(df, sensors, height):\n",
    "    ground_points = {}\n",
    "    for point_id, group in df.groupby('id'):\n",
    "        num_measures = len(group)\n",
    "        measure_ground = []\n",
    "        for i in range(num_measures):\n",
    "            row = group.iloc[i]\n",
    "            measure = csmapi.ImageCoord(row['line'], row['sample'])\n",
    "            height = 3388850.23708615 # average of camstats average <meters>\n",
    "            measure_ground.append(sensors[row['serialnumber']].imageToGround(measure, height))\n",
    "        x = np.array([meas.x for meas in measure_ground]).mean()\n",
    "        y = np.array([meas.y for meas in measure_ground]).mean()\n",
    "        z = np.array([meas.z for meas in measure_ground]).mean()\n",
    "        ground_points[point_id] = np.array([x, y, z])\n",
    "    return ground_points\n",
    "\n",
    "def populate_ground_points(df, ground_points):\n",
    "    for itterrow in df.iterrows():\n",
    "        it = itterrow[0]\n",
    "        row = itterrow[1]\n",
    "        row.adjustedX = ground_points[row.id][0]\n",
    "        row.adjustedY = ground_points[row.id][1]\n",
    "        row.adjustedZ = ground_points[row.id][2]\n",
    "        df.loc[it] = row\n",
    "    return df"
   ]
  },
  {
   "cell_type": "code",
   "execution_count": null,
   "metadata": {
    "collapsed": true
   },
   "outputs": [],
   "source": [
    "# # Dissection of compute_ground_points_projection()\n",
    "# cube_names = ['F02', 'F06', 'F22', 'J07']\n",
    "# heights = np.array([3388316.5795645, 3389409.7501269, 3388202.849495, 3389471.7691582]) - 3376200\n",
    "# height = heights.mean()\n",
    "\n",
    "# sensors = generate_sensors(cubes)\n",
    "\n",
    "# ground_points = {}\n",
    "# for point_id, group in df.groupby('id'):\n",
    "#     num_measures = len(group)\n",
    "    \n",
    "#     measure_ground = []\n",
    "#     for i in range(num_measures):\n",
    "#         row = group.iloc[i]\n",
    "#         measure = csmapi.ImageCoord(row['line'], row['sample'])\n",
    "#         measure_ground.append(sensors[row['serialnumber']].imageToGround(measure, height))\n",
    "    \n",
    "#     x = np.array([meas.x for meas in measure_ground])\n",
    "#     y = np.array([meas.y for meas in measure_ground])\n",
    "#     z = np.array([meas.z for meas in measure_ground])\n",
    "    \n",
    "#     print(row.id)\n",
    "#     print('x\\n',x, '\\nmean:', np.mean(x), '\\nstd:', np.std(x))\n",
    "#     print('y\\n',y, '\\nmean:', np.mean(y), '\\nstd:', np.std(y))\n",
    "#     print('z\\n',z, '\\nmean:', np.mean(z), '\\nstd:', np.std(z))\n",
    "#     print('\\n'*2)\n",
    "    \n",
    "#     ground_points[point_id] = np.array([x, y, z])"
   ]
  },
  {
   "cell_type": "code",
   "execution_count": 6,
   "metadata": {
    "collapsed": true,
    "scrolled": false
   },
   "outputs": [],
   "source": [
    "# Method using the distance of closest appraoch to find gorund point\n",
    "sensors = generate_sensors(cubes)\n",
    "ground_points = compute_ground_points_closestApproachDistance(df, sensors)\n",
    "df = populate_ground_points(df, ground_points)"
   ]
  },
  {
   "cell_type": "code",
   "execution_count": null,
   "metadata": {
    "collapsed": true
   },
   "outputs": [],
   "source": [
    "# # Method using csm imageToGround calls on measures and using average to create ground point\n",
    "# sensors = generate_sensors(cubes)\n",
    "\n",
    "# heights = np.array([3388316.5795645, 3389409.7501269, 3388202.849495, 3389471.7691582]) - 3376200\n",
    "# height = heights.mean()\n",
    "# ground_points = compute_ground_points_projection(df, sensors, height)\n",
    "\n",
    "# df = populate_ground_points(df, ground_points)"
   ]
  },
  {
   "cell_type": "markdown",
   "metadata": {},
   "source": [
    "### Compute Partials"
   ]
  },
  {
   "cell_type": "code",
   "execution_count": 7,
   "metadata": {
    "collapsed": true
   },
   "outputs": [],
   "source": [
    "def computeAllSensorPartials(sensors, control_network):\n",
    "    cn_sensors = [sensors[sn] for sn in control_network['serialnumber']]\n",
    "\n",
    "    ground_points = [csmapi.EcefCoord(x, y, z) for \n",
    "                     x, y, z in zip(control_network['adjustedX'],\n",
    "                                    control_network['adjustedY'],\n",
    "                                    control_network['adjustedZ'])]\n",
    "    partials = []\n",
    "    for sensor, gp in zip (cn_sensors, ground_points):\n",
    "        partial_set = sensor.computeAllSensorPartials(gp)\n",
    "        line = [partial_set[i][0] for i in range(0,len(partial_set))]\n",
    "        sample = [partial_set[i][1] for i in range(0,len(partial_set))]\n",
    "        partials.append(np.array([line, sample]))\n",
    "        \n",
    "    return list(range(0,len(control_network))), list(control_network['serialnumber']), partials\n",
    "   \n",
    "def computeSensorPartials(sensors, control_network):\n",
    "    \"\"\"Gets all parameters EXCEPT for the last one (focal length)\"\"\"\n",
    "    \n",
    "    cn_sensors = [sensors[sn] for sn in control_network['serialnumber']]\n",
    "    ground_points = [csmapi.EcefCoord(x, y, z) for \n",
    "                     x, y, z in zip(control_network['adjustedX'],\n",
    "                                    control_network['adjustedY'],\n",
    "                                    control_network['adjustedZ'])]\n",
    "    partials = []\n",
    "    for sensor, gp in zip(cn_sensors, ground_points):\n",
    "        partial_set = []\n",
    "        for p_idx in range(sensor.getNumParameters()): \n",
    "            if 'Focal Bias' in sensor.getParameterName(p_idx):\n",
    "                continue\n",
    "            partial_set.append(sensor.computeSensorPartials(p_idx, gp))\n",
    "        partial_set = tuple(partial_set)        \n",
    "        line = [partial_set[i][0] for i in range(0,len(partial_set))]\n",
    "        sample = [partial_set[i][1] for i in range(0,len(partial_set))]\n",
    "        partials.append(np.array([line, sample]))\n",
    "    return list(range(0,len(control_network))), list(control_network['serialnumber']), partials\n",
    "\n",
    "def computeGroundPartials(sensors, control_network):\n",
    "    cn_sensors = [sensors[sn] for sn in control_network['serialnumber']]\n",
    "    ground_points = [csmapi.EcefCoord(x, y, z) for \n",
    "                    x, y, z in zip(control_network['adjustedX'],\n",
    "                                    control_network['adjustedY'],\n",
    "                                    control_network['adjustedZ'])]\n",
    "    partials = []\n",
    "    for sensor, gp in zip (cn_sensors, ground_points):\n",
    "        partial_set = sensor.computeGroundPartials(gp)\n",
    "        line = partial_set[0:6:2]\n",
    "        sample = partial_set[1:6:2]\n",
    "        partials.append(np.array([line, sample]))\n",
    "        \n",
    "    return list(range(0,len(control_network))), list(control_network['id']), partials"
   ]
  },
  {
   "cell_type": "code",
   "execution_count": 8,
   "metadata": {
    "collapsed": true,
    "scrolled": false
   },
   "outputs": [],
   "source": [
    "# Solving for all available csm sensor parameters\n",
    "sp_index, serialnumber, sensor_partials = computeAllSensorPartials(sensors, df)\n",
    "gp_index, pointid, ground_partials = computeGroundPartials(sensors, df)"
   ]
  },
  {
   "cell_type": "code",
   "execution_count": null,
   "metadata": {
    "collapsed": true
   },
   "outputs": [],
   "source": [
    "# # Not solving for the focal length\n",
    "# sp_index, serialnumber, sensor_partials = computeSensorPartials(sensors, df)\n",
    "# gp_index, pointid, ground_partials = computeGroundPartials(sensors, df)"
   ]
  },
  {
   "cell_type": "markdown",
   "metadata": {},
   "source": [
    "### Populate the Jacobian"
   ]
  },
  {
   "cell_type": "code",
   "execution_count": 9,
   "metadata": {
    "collapsed": true
   },
   "outputs": [],
   "source": [
    "n_param = len(sensor_partials[0][0]) # this can be 15 or 16, depending on if we are solving for focal length\n",
    "sn_uniq = sorted(df.serialnumber.unique())\n",
    "n_img = len(sn_uniq)\n",
    "ptid_uniq = sorted(set(df.id))\n",
    "n_pts = len(ptid_uniq)\n",
    "\n",
    "# Create a dictionary which contains an image and its corresponding Jacobian column index start\n",
    "sn_ind = range(0,n_param*n_img, n_param) # starting index for columns\n",
    "sn_dict = dict(zip(sn_uniq, sn_ind))\n",
    "# print(sn_dict)\n",
    "\n",
    "# Create a dictionary which contains a point id and its corresponding Jacobian column index start\n",
    "ptid_ind = range(sn_ind[-1]+n_param, sn_ind[-1]+n_param + 3*n_pts, 3) # starting index for columns\n",
    "ptid_dict = dict(zip(ptid_uniq, ptid_ind))\n",
    "# print(ptid_dict)\n",
    "\n",
    "# Create empty Jacobian\n",
    "meas = len(df) #number of measures\n",
    "params = n_param*n_img+3*n_pts \n",
    "J = np.zeros((meas*2, params))\n",
    "\n",
    "#This is pretty gross - clean up at some point??"
   ]
  },
  {
   "cell_type": "code",
   "execution_count": 10,
   "metadata": {
    "collapsed": true
   },
   "outputs": [],
   "source": [
    "# populate J with sensor partials\n",
    "for index, sn, partials in zip(sp_index, serialnumber, sensor_partials):\n",
    "    row = index*2\n",
    "    col = sn_dict[sn]\n",
    "    J[row:row+2, col:col+n_param] = partials\n",
    "\n",
    "# populate J with ground partials\n",
    "for index, ptid, partials in zip(gp_index, pointid, ground_partials):\n",
    "    row = index*2\n",
    "    col = ptid_dict[ptid]\n",
    "    J[row:row+2, col:col+3] = partials"
   ]
  },
  {
   "cell_type": "markdown",
   "metadata": {},
   "source": [
    "### Visualize Jacobian and Normal"
   ]
  },
  {
   "cell_type": "code",
   "execution_count": 11,
   "metadata": {
    "scrolled": false
   },
   "outputs": [
    {
     "data": {
      "text/plain": [
       "<matplotlib.image.AxesImage at 0x2b3911c7f850>"
      ]
     },
     "execution_count": 11,
     "metadata": {},
     "output_type": "execute_result"
    },
    {
     "data": {
      "image/png": "[encoded data removed]",
      "text/plain": [
       "<Figure size 864x864 with 1 Axes>"
      ]
     },
     "metadata": {
      "needs_background": "light"
     },
     "output_type": "display_data"
    }
   ],
   "source": [
    "import matplotlib.pyplot as plt\n",
    "\n",
    "plt.figure(figsize=(12,12))\n",
    "plt.imshow(np.not_equal(J, np.zeros(J.shape))) #Jacobian"
   ]
  },
  {
   "cell_type": "code",
   "execution_count": 12,
   "metadata": {},
   "outputs": [
    {
     "name": "stdout",
     "output_type": "stream",
     "text": [
      "209.16430538121483\n",
      "400\n",
      "-58.33083755555968\n",
      "24028\n"
     ]
    },
    {
     "data": {
      "text/plain": [
       "<matplotlib.image.AxesImage at 0x2b39200120d0>"
      ]
     },
     "execution_count": 12,
     "metadata": {},
     "output_type": "execute_result"
    },
    {
     "data": {
      "image/png": "[encoded data removed]",
      "text/plain": [
       "<Figure size 1080x1080 with 2 Axes>"
      ]
     },
     "metadata": {
      "needs_background": "light"
     },
     "output_type": "display_data"
    }
   ],
   "source": [
    "print(np.max(J))\n",
    "print(np.argmax(J))\n",
    "print(np.min(J))\n",
    "print(np.argmin(J))\n",
    "\n",
    "# plt.figure(figsize=(20,20))\n",
    "fig, [ax1, ax2] = plt.subplots(nrows=1, ncols=2, sharex=True, sharey=True, figsize=(15,15))\n",
    "ax1.imshow(np.greater(J, np.ones((J.shape)))) # Greater Than 1 elements\n",
    "ax2.imshow(np.less(J, -1*np.ones((J.shape)))) # Less Than -1 elements\n"
   ]
  },
  {
   "cell_type": "code",
   "execution_count": null,
   "metadata": {},
   "outputs": [],
   "source": [
    "J_sensor = J[:,:64]\n",
    "J_ground = J[:,64:]\n",
    "print(J_sensor.shape)\n",
    "print(J_ground.shape)\n",
    "\n",
    "fig, [ax1, ax2] = plt.subplots(nrows=1, ncols=2, sharex=True, sharey=True, figsize=(10,10))\n",
    "ax1.imshow(J_sensor)\n",
    "ax2.imshow(J_ground)"
   ]
  },
  {
   "cell_type": "code",
   "execution_count": null,
   "metadata": {
    "scrolled": false
   },
   "outputs": [],
   "source": [
    "plt.figure(figsize=(7,7))\n",
    "plt.imshow(np.not_equal(np.dot(J.T,J), np.zeros((J.shape[1], J.shape[1])))) # Normal Equation"
   ]
  },
  {
   "cell_type": "code",
   "execution_count": null,
   "metadata": {
    "collapsed": true
   },
   "outputs": [],
   "source": []
  },
  {
   "cell_type": "code",
   "execution_count": null,
   "metadata": {
    "collapsed": true
   },
   "outputs": [],
   "source": []
  },
  {
   "cell_type": "code",
   "execution_count": null,
   "metadata": {
    "collapsed": true
   },
   "outputs": [],
   "source": []
  },
  {
   "cell_type": "markdown",
   "metadata": {
    "collapsed": true
   },
   "source": [
    "### Compute the Weight Matrix\n",
    "#### According to the weighted Normal equation (J.TWJ), W needs to be a square matrix the size of (# of measures)x2. So it is the weight of the observations. In ISIS, the weight of the observations are an inverted function of the size of the pixels on the focal plane (resolution). However, in csm we do not have access to that information. \n",
    "#### For the time being, since we are working exclusively with CTX images we are going to set the weight matrix equal to the identity matrix -> all observations have the same weight."
   ]
  },
  {
   "cell_type": "code",
   "execution_count": 13,
   "metadata": {
    "scrolled": false
   },
   "outputs": [
    {
     "data": {
      "text/plain": [
       "(260, 260)"
      ]
     },
     "execution_count": 13,
     "metadata": {},
     "output_type": "execute_result"
    }
   ],
   "source": [
    "# for key, sensor in sensors.items():\n",
    "#     covar = sensor.getCovarianceMatrix()\n",
    "#     covar = np.reshape(list(covar), (16,16))\n",
    "#     weight = np.linalg.inv(covar)\n",
    "#     print(weight.shape)\n",
    "#     print(weight)\n",
    "#     break\n",
    "\n",
    "W = np.eye(meas*2)\n",
    "W.shape"
   ]
  },
  {
   "cell_type": "markdown",
   "metadata": {},
   "source": [
    "### Calculate the Residuals"
   ]
  },
  {
   "cell_type": "code",
   "execution_count": 14,
   "metadata": {},
   "outputs": [
    {
     "name": "stdout",
     "output_type": "stream",
     "text": [
      "[24310.77331393  5781.32556815 66386.85944392 24477.82813578\n",
      " 61697.52995774 -3850.69400608 24693.09889407  3979.97618826\n",
      " 66809.07423469 23038.98671835 62064.99732782 -5656.1205301\n",
      "  8607.19702341  4714.2196969  49748.21395913 23758.45889798\n",
      " 45977.96005535 -4900.49431478  8990.38901787  2929.14218152\n",
      " 50179.34373588 22319.83544143 46344.64066369 -6689.60771387\n",
      "  9370.53184807  1119.95729421 50607.64342986 20837.79603425\n",
      " 46709.14702386 -8488.03087145  5947.61170628  2282.9202359\n",
      " 46966.13962519 21867.59785778 43295.42520034 -7359.33171226\n",
      " 18669.1493968  12741.74543108 22691.3614213   4571.98220662\n",
      " 64682.02340892 23517.40462802 60067.75322359 -5053.10377025\n",
      " 19059.64321782 11044.21171594 23071.98788752  2780.07251128\n",
      " 65103.43598616 22074.50764405 60433.95792386 -6847.43800874\n",
      " 15189.25065202 13936.47463955 19234.6722989   5842.24936223\n",
      " 61006.31409967 24557.51142794 56621.29617801 -3775.91525368\n",
      " 15583.18908446 12229.79453668 19618.86722083  4039.33259536\n",
      " 61429.88499232 23104.13796351 56988.31716723 -5576.30696611\n",
      " 15972.52956947 10518.11994917 19997.61377629  2246.34103467\n",
      " 61850.66954113 21633.54129354 57352.87762312 -7356.45420931\n",
      " 12109.66749693 13400.16690533 16169.0361255   5275.4439656\n",
      " 57761.04984903 24132.74978865 53547.7971589  -4338.24120735\n",
      " 12503.26687993 11698.74101547 16551.84732329  3484.47496709\n",
      " 58185.80069828 22677.14179708 53915.17456566 -6123.59359022\n",
      " 12893.85988281  9980.8529156  16931.67245681  1687.05936351\n",
      " 58608.89462176 21201.10297419 54279.91769789 -7908.61127011\n",
      "  9037.18911614 12843.45556822 13109.69417832  4688.01330765\n",
      " 54523.64391822 23690.47922123 50483.16138823 -4924.83958711\n",
      "  9430.51056197 11143.13302735 13491.68182861  2898.36840322\n",
      " 54950.83444589 22236.39095875 50848.05180864 -6711.49306309\n",
      "  9820.86619464  9409.99029193 13870.67215274  1095.11104945\n",
      " 55373.79188347 20738.76725011 51211.64586521 -8490.82904659\n",
      "  5970.14816731 12269.55785845 10056.28026287  4078.31811898\n",
      " 51295.08553484 23239.08507285 47422.06495088 -5540.04072397\n",
      " 47787.03560039 -7319.78548467 51722.43139369 21778.48649689\n",
      " 10438.17106354  2292.68396337  6363.637289   10566.81503886\n",
      " 24482.02936494  1504.74285904 61838.17920356 -8138.29979407\n",
      " 66611.60162671 21063.91058513 21093.08541465  5220.34262174\n",
      " 17059.97930247 13351.56978568 58473.80883457 -4399.99597816\n",
      " 62981.11807923 24046.9559593  21397.33046326  3373.6696836\n",
      " 17374.26501682 11598.66331811 58762.58319686 -6241.93252915\n",
      " 63321.33500353 22551.0968016  21779.66111466  1420.29976075\n",
      " 17767.02772276  9748.68126835 59132.00382767 -8200.11409568\n",
      " 63748.77278736 20985.50221996 17769.1395256   4728.20199944\n",
      " 13720.69175071 12883.27579609 55144.63087355 -4889.65215322\n",
      " 59463.35455122 23680.23398589 18150.99810612  2688.35525146\n",
      " 14114.65169584 10936.79905849 55507.93775695 -6913.17070617\n",
      " 59889.05093306 22005.92566921 18495.37892446  1014.65305958\n",
      " 14468.49586849  9342.58450894 55840.1069284  -8582.05082201\n",
      " 60273.75912628 20648.55898392 14101.08867186  5653.40772573\n",
      " 10029.04728976 13754.76710571 51483.3849718  -3958.56682057\n",
      " 55563.92191898 24452.50865521 14716.21084831  4042.94530417\n",
      " 10655.77534563 12231.61864681 52083.80250699 -5569.39521123\n",
      " 56234.55189304 23152.58541659 15138.13666049  2260.74867308\n",
      " 11089.07597776 10533.22756362 52490.77642458 -7343.56389054\n",
      " 56703.22240654 21696.82718766 11010.20891189  5269.08362572\n",
      "  6923.02995982 13392.31078761 48387.55119046 -4343.72602214\n",
      " 52290.67674002 24178.11721799 11432.38024749  3465.27904581\n",
      "  7356.92393443 11682.00212061 48792.7875792  -6146.96837586\n",
      " 52760.97773202 22717.49425894 11931.85532366  1726.37967629\n",
      "  7868.8013221  10021.32384571 49276.511923   -7874.5945107\n",
      " 53311.93070721 21289.22195978  6449.37321757  5358.01009398\n",
      " 43825.89004238 -4264.99689196 47452.03867694 24311.81787606\n",
      "  7143.07232025  3639.79296945 44503.69747966 -5994.07961389\n",
      " 48212.63490791 22937.29065844 48481.48445545 21444.74703508\n",
      "  7372.79376263  1815.26729437 44715.98756401 -7808.38692252]\n"
     ]
    }
   ],
   "source": [
    "# I just bulk grabbed values from the df to make the Jacobian\n",
    "# I think it is safe to do that again \n",
    "\n",
    "control_network = df\n",
    "\n",
    "# grab line sample values of the measures in the df\n",
    "meas_line = np.array(control_network['line'].values)\n",
    "meas_sample = np.array(control_network['sample'].values)\n",
    "# stuff them into one vector line sample line sample\n",
    "meas_ls = np.zeros((1,2*len(control_network)))[0]\n",
    "meas_ls[::2] = meas_line\n",
    "meas_ls[1::2] = meas_sample\n",
    "\n",
    "# back project ground points\n",
    "cn_sensors = [sensors[sn] for sn in control_network['serialnumber']]\n",
    "ground_points = [csmapi.EcefCoord(x, y, z) for \n",
    "                 x, y, z in zip(control_network['adjustedX'],\n",
    "                                control_network['adjustedY'],\n",
    "                                control_network['adjustedZ'])]\n",
    "gp_line = []\n",
    "gp_sample = []\n",
    "for sensor, gp in zip(cn_sensors, ground_points):\n",
    "    img_coord = sensor.groundToImage(gp)\n",
    "    gp_line.append(img_coord.line)\n",
    "    gp_sample.append(img_coord.samp)\n",
    "    \n",
    "gp_line = np.array(gp_line)\n",
    "gp_sample = np.array(gp_sample)\n",
    "# stuff them into one vector line sample line sample\n",
    "gp_ls = np.zeros((1,2*len(control_network)))[0]\n",
    "gp_ls[::2] = gp_line\n",
    "gp_ls[1::2] = gp_sample\n",
    "\n",
    "# compare\n",
    "V = gp_ls - meas_ls\n",
    "print(V)"
   ]
  },
  {
   "cell_type": "code",
   "execution_count": null,
   "metadata": {
    "collapsed": true
   },
   "outputs": [],
   "source": []
  },
  {
   "cell_type": "markdown",
   "metadata": {},
   "source": [
    "### Bundle Iteration"
   ]
  },
  {
   "cell_type": "code",
   "execution_count": 15,
   "metadata": {},
   "outputs": [
    {
     "name": "stdout",
     "output_type": "stream",
     "text": [
      "(169,)\n"
     ]
    }
   ],
   "source": [
    "N = J.T.dot(W).dot(J)\n",
    "# print(N)\n",
    "dX = np.linalg.inv(N).dot(J.T).dot(W).dot(V)\n",
    "print(dX.shape)"
   ]
  },
  {
   "cell_type": "code",
   "execution_count": 16,
   "metadata": {},
   "outputs": [
    {
     "name": "stdout",
     "output_type": "stream",
     "text": [
      "[-4.37051367e+13  1.01131825e+14  1.72090838e+14  1.55739248e+13\n",
      "  3.84252539e+13 -3.07710857e+13 -4.12232914e+12  1.92536263e+12\n",
      " -1.86302139e+10 -1.56272017e+12 -7.37143161e+11  5.51608467e+09\n",
      "  3.41579384e+09  1.74986337e+10  1.14784057e+09  2.22425402e+09\n",
      "  1.66982774e+14  5.53215743e+13  8.34072144e+13 -6.95301561e+13\n",
      " -8.06990245e+13  8.73512453e+13 -6.43425049e+11 -8.25855512e+12\n",
      " -1.25295449e+10  3.46295894e+12  3.94916118e+12  2.37781474e+10\n",
      " -5.50568588e+10 -1.75388170e+11 -9.88072399e+09  1.91565492e+10\n",
      "  3.06535901e+12 -1.30263327e+14 -1.10452474e+14 -9.33669042e+11\n",
      "  3.57760888e+13  1.74974634e+12  6.32461436e+12 -1.14781231e+11\n",
      "  7.77598129e+09 -1.46356526e+12  2.02780101e+10 -4.20640779e+09\n",
      "  7.96167156e+07  1.18468209e+09  3.48625098e+08 -5.78234007e+09\n",
      "  3.87916717e+13 -1.62047541e+14 -6.98115387e+12 -1.69262095e+13\n",
      "  4.62228806e+13  1.22087938e+13  6.25561483e+12 -1.71927912e+12\n",
      "  5.88753201e+10 -2.02408281e+12  7.76315124e+11 -3.35642024e+10\n",
      "  9.42511226e+08 -7.26703358e+09  3.18066981e+09  2.60700910e+09\n",
      " -1.54402630e+09 -5.75778301e+08 -4.51626194e+09 -4.99333389e+08\n",
      " -3.02229783e+08 -7.51962518e+08  1.98332927e+08  1.17155838e+08\n",
      " -6.81053628e+08  1.20128549e+08  6.17052498e+07 -2.99565946e+08\n",
      " -1.54844439e+08 -1.10790731e+08  6.12711914e+08  3.95949168e+08\n",
      "  9.96101579e+06  2.90736125e+09 -2.89985868e+08 -1.48360499e+08\n",
      " -1.38794005e+09  8.44622197e+06 -1.11660328e+08  3.46887419e+08\n",
      " -7.29808747e+07  5.62150593e+06 -1.91175996e+09  1.00298506e+08\n",
      "  7.52501710e+06 -4.26397520e+08  2.58974117e+08  6.05306136e+07\n",
      " -7.62032724e+07  1.60800366e+08  6.40803235e+07 -5.20806380e+08\n",
      "  1.51474163e+08  4.06564184e+07 -8.82944993e+07  1.54408749e+08\n",
      "  5.17771121e+07 -2.91342757e+08  1.27099098e+08  4.57946474e+07\n",
      " -9.82502658e+07  1.23989564e+08  4.98548458e+07 -1.74171853e+08\n",
      "  1.27479716e+08  5.18493689e+07 -1.58398937e+08  1.15166253e+08\n",
      "  4.03702197e+07  2.43096147e+07  1.09844084e+08  4.46833769e+07\n",
      " -7.86584958e+07 -8.22503043e+08 -3.98216596e+08 -1.92568886e+09\n",
      " -4.96031577e+07 -5.66055615e+07 -8.30420139e+08  6.95411101e+07\n",
      " -1.20807282e+07 -6.41783620e+08  1.59384349e+08  3.17909705e+05\n",
      " -2.94537970e+08  9.85330303e+07  1.54649981e+07 -3.27970505e+08\n",
      "  1.48621216e+08  4.09697899e+07 -3.10083102e+08  1.75613967e+08\n",
      "  3.98778962e+07 -1.79542751e+08  1.29771546e+08  3.95492108e+07\n",
      " -1.01226064e+08  1.33311883e+08  4.42275914e+07 -1.31990220e+08\n",
      "  1.39396344e+08  4.64781568e+07 -1.30085312e+08  1.21590293e+08\n",
      "  4.48629060e+07 -4.00659059e+07  1.22297579e+08  4.82098235e+07\n",
      " -3.94094789e+07  1.26674586e+08  4.99753344e+07 -3.81976426e+07\n",
      "  1.25536165e+08  4.40870980e+07 -4.81220911e+07  1.27030980e+08\n",
      "  4.67255578e+07 -4.77093365e+07  1.28735696e+08  4.92921151e+07\n",
      " -4.85069612e+07]\n"
     ]
    }
   ],
   "source": [
    "print(dX)"
   ]
  },
  {
   "cell_type": "code",
   "execution_count": null,
   "metadata": {
    "collapsed": true
   },
   "outputs": [],
   "source": []
  },
  {
   "cell_type": "markdown",
   "metadata": {},
   "source": [
    "### Redundancy Number Calculation"
   ]
  },
  {
   "cell_type": "code",
   "execution_count": null,
   "metadata": {
    "collapsed": true
   },
   "outputs": [],
   "source": []
  },
  {
   "cell_type": "code",
   "execution_count": null,
   "metadata": {
    "collapsed": true
   },
   "outputs": [],
   "source": []
  },
  {
   "cell_type": "code",
   "execution_count": null,
   "metadata": {
    "collapsed": true
   },
   "outputs": [],
   "source": []
  },
  {
   "cell_type": "markdown",
   "metadata": {},
   "source": [
    "### Visualizing Ground Points"
   ]
  },
  {
   "cell_type": "code",
   "execution_count": null,
   "metadata": {
    "collapsed": true
   },
   "outputs": [],
   "source": [
    "import pyproj\n",
    "\n",
    "a = 3396190\n",
    "b = 3376200\n",
    "ecef = pyproj.Proj(proj='geocent',\n",
    "                   a=a,\n",
    "                   b=b)\n",
    "lla = pyproj.Proj(proj='longlat',\n",
    "                  a=a,\n",
    "                  b=b)\n",
    "\n",
    "# Compute the lat/lons from the ecef coords\n",
    "lons, lats, alts = pyproj.transform(ecef, lla, df['adjustedX'].values, df['adjustedY'].values, df['adjustedZ'].values)\n",
    "df['longitude'] = lons\n",
    "df['latitude'] = lats\n",
    "df['altitudes'] = alts\n"
   ]
  },
  {
   "cell_type": "code",
   "execution_count": null,
   "metadata": {
    "scrolled": false
   },
   "outputs": [],
   "source": [
    "from mpl_toolkits.mplot3d import Axes3D  # noqa: F401 unused import\n",
    "\n",
    "for isn, group in df.groupby('serialnumber'):\n",
    "    x = list(group.adjustedX)\n",
    "    y = list(group.adjustedY)\n",
    "    z = list(group.adjustedZ)\n",
    "    lat = list(group.latitude)\n",
    "    lon = list(group.longitude)\n",
    "    alts = list(group.altitudes)\n",
    "    \n",
    "    print(isn)\n",
    "    fig = plt.figure(figsize=(10, 5))\n",
    "    ax1 = fig.add_subplot(121, projection='3d')\n",
    "    ax1.scatter(x, y, z)\n",
    "    \n",
    "    ax2 = fig.add_subplot(122, projection='3d')\n",
    "    ax2.scatter(lat, lon, alts)\n",
    "    \n",
    "#     ax.view_init(0,45)\n",
    "\n",
    "    "
   ]
  },
  {
   "cell_type": "markdown",
   "metadata": {},
   "source": [
    "### Jigsaw Parameter, For Referance"
   ]
  },
  {
   "cell_type": "code",
   "execution_count": null,
   "metadata": {
    "collapsed": true
   },
   "outputs": [],
   "source": [
    "jigsaw fromlist=bundled_cubes_100CV.lis cnet=wTestingGround.100Covar.bundle.filtered.net \n",
    "onet=wTestingGround.100Covar.bundle.filtered.bundle.net file_prefix=bundle2_100CV radius=yes \n",
    "twist=yes camsolve=accelerations overexisting=yes camera_angles_sigma=0.25 camera_angular_velocity_sigma=.1 \n",
    "camera_angular_acceleration_sigma=.01 point_radius_sigma=50 update=yes\n"
   ]
  },
  {
   "cell_type": "markdown",
   "metadata": {},
   "source": [
    "### Get Current Parameters"
   ]
  },
  {
   "cell_type": "code",
   "execution_count": null,
   "metadata": {
    "collapsed": true
   },
   "outputs": [],
   "source": [
    "sensor = sensors['MRO/CTX/1085197697:073']\n",
    "parameter_values = [sensor.getParameterValue(i+17) for i in range(sensor.getNumParameters())]\n",
    "print(parameter_values)"
   ]
  },
  {
   "cell_type": "code",
   "execution_count": null,
   "metadata": {
    "collapsed": true
   },
   "outputs": [],
   "source": [
    "# GET ALL PARAMETER VALUES (position x shift, position y shift, etc.)\n",
    "for key in sensors:\n",
    "    sensor = sensors[key]\n",
    "    parameter_values = [sensor.getParameterValue(i) for i in range(sensor.getNumParameters())]\n",
    "    print(parameter_values)"
   ]
  }
 ],
 "metadata": {
  "kernelspec": {
   "display_name": "csm_local",
   "language": "python",
   "name": "csm_local"
  },
  "language_info": {
   "codemirror_mode": {
    "name": "ipython",
    "version": 3
   },
   "file_extension": ".py",
   "mimetype": "text/x-python",
   "name": "python",
   "nbconvert_exporter": "python",
   "pygments_lexer": "ipython3",
   "version": "3.7.6"
  }
 },
 "nbformat": 4,
 "nbformat_minor": 4
}
