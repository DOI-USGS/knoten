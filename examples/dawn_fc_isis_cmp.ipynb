{
 "cells": [
  {
   "cell_type": "markdown",
   "metadata": {},
   "source": [
    "# Comparing a USGSCSM and ISIS camera for Dawn FC"
   ]
  },
  {
   "cell_type": "code",
   "execution_count": 1,
   "metadata": {},
   "outputs": [],
   "source": [
    "import pvl\n",
    "import numpy as np\n",
    "import os\n",
    "import pandas as pd\n",
    "import knoten\n",
    "import csmapi\n",
    "\n",
    "os.environ['ISISROOT'] = '/usgs/pkgs/isis3.8.0_RC1/install'\n",
    "from pysis import isis\n",
    "from pysis.exceptions import ProcessError"
   ]
  },
  {
   "cell_type": "markdown",
   "metadata": {},
   "source": [
    "## Make a CSM sensor model"
   ]
  },
  {
   "cell_type": "code",
   "execution_count": 2,
   "metadata": {},
   "outputs": [
    {
     "name": "stdout",
     "output_type": "stream",
     "text": [
      "  % Total    % Received % Xferd  Average Speed   Time    Time     Time  Current\n",
      "                                 Dload  Upload   Total   Spent    Left  Speed\n",
      "100 2150k  100 2150k    0     0  8886k      0 --:--:-- --:--:-- --:--:-- 8886k\n"
     ]
    }
   ],
   "source": [
    "imageLink = 'https://pdsimage.wr.usgs.gov/Missions/Dawn/Ceres/DWNCSFC2_1A/DATA/IMG/20150604_SURVEY/20150617_CYCLE5/FC21A0038582_15170161546F6F.IMG'\n",
    "# !wget -N -P data/ {imageLink}\n",
    "fileName = 'data/' + os.path.split(imageLink)[1]\n",
    "!curl {imageLink} > {fileName}\n",
    "    \n",
    "camera = knoten.csm.create_csm(fileName)"
   ]
  },
  {
   "cell_type": "markdown",
   "metadata": {},
   "source": [
    "## Ingest the image and spiceinit"
   ]
  },
  {
   "cell_type": "code",
   "execution_count": 3,
   "metadata": {},
   "outputs": [],
   "source": [
    "# Set the output location of the resulting .cub\n",
    "cub_loc = os.path.splitext(fileName)[0] + '.cub'\n",
    "\n",
    "try: \n",
    "    isis.dawnfc2isis(from_=fileName, to=cub_loc)\n",
    "except ProcessError as e:\n",
    "    print(e.stderr)\n",
    "\n",
    "try:\n",
    "    isis.spiceinit(from_=cub_loc, shape='ellipsoid')\n",
    "except ProcessError as e:\n",
    "    print(e.stderr)"
   ]
  },
  {
   "cell_type": "markdown",
   "metadata": {},
   "source": [
    "## Define a function that compares ISIS and USGSCSM pixels"
   ]
  },
  {
   "cell_type": "code",
   "execution_count": 4,
   "metadata": {},
   "outputs": [],
   "source": [
    "def check_pixel(camera, cub, line, sample):\n",
    "    \"\"\"Compares ISIS and USGSCSM pixel.\n",
    "    \n",
    "    Takes an image coordinate, projects it to a ground point using ISIS, then projects\n",
    "    the result back into an image coordinate using USGSCSM and computes the difference\n",
    "    between image coordinates.\n",
    "    \"\"\"\n",
    "    output = isis.campt(from_=cub, line=line, sample=sample)\n",
    "    pvl_output = pvl.loads(output)\n",
    "    bodyfixed = pvl_output['GroundPoint']['BodyFixedCoordinate']\n",
    "    bodyfixed = np.asarray(bodyfixed.value) * 1000\n",
    "    image_coord = camera.groundToImage(csmapi.EcefCoord(*bodyfixed))\n",
    "    # (.5,.5) in CSM == (1,1) in ISIS, so we have to subtract (.5,.5) from the ISIS pixels\n",
    "    line_diff = line - image_coord.line - .5\n",
    "    sample_diff = sample - image_coord.samp - .5\n",
    "    return line_diff, sample_diff"
   ]
  },
  {
   "cell_type": "code",
   "execution_count": 5,
   "metadata": {},
   "outputs": [],
   "source": [
    "def check_orientation(camera, cub, line, sample):\n",
    "    output = isis.campt(from_=cub, line=line, sample=sample)\n",
    "    pvl_output = pvl.loads(output)\n",
    "    isis_position = np.array(pvl_output['GroundPoint']['SpacecraftPosition'].value) * 1000\n",
    "    isis_look = np.array(pvl_output['GroundPoint']['LookDirectionBodyFixed'])\n",
    "    csm_locus = camera.imageToRemoteImagingLocus(csmapi.ImageCoord(line - 0.5, sample - 0.5))\n",
    "    csm_position = np.array([csm_locus.point.x, csm_locus.point.y, csm_locus.point.z])\n",
    "    csm_look = np.array([csm_locus.direction.x, csm_locus.direction.y, csm_locus.direction.z])\n",
    "    diff_position = isis_position - csm_position\n",
    "    diff_look = isis_look - csm_look\n",
    "    return diff_position, diff_look"
   ]
  },
  {
   "cell_type": "markdown",
   "metadata": {},
   "source": [
    "## Get the total number of lines / samples"
   ]
  },
  {
   "cell_type": "code",
   "execution_count": 6,
   "metadata": {},
   "outputs": [],
   "source": [
    "isis_label = pvl.load(cub_loc)\n",
    "n_samples = isis_label['IsisCube']['Core']['Dimensions']['Samples']\n",
    "n_lines = isis_label['IsisCube']['Core']['Dimensions']['Lines']"
   ]
  },
  {
   "cell_type": "markdown",
   "metadata": {},
   "source": [
    "## Compare top left, top right, bottom left, bottom right, and center pixels using check_pixel"
   ]
  },
  {
   "cell_type": "code",
   "execution_count": 7,
   "metadata": {
    "scrolled": true
   },
   "outputs": [
    {
     "data": {
      "text/html": [
       "<div>\n",
       "<style scoped>\n",
       "    .dataframe tbody tr th:only-of-type {\n",
       "        vertical-align: middle;\n",
       "    }\n",
       "\n",
       "    .dataframe tbody tr th {\n",
       "        vertical-align: top;\n",
       "    }\n",
       "\n",
       "    .dataframe thead th {\n",
       "        text-align: right;\n",
       "    }\n",
       "</style>\n",
       "<table border=\"1\" class=\"dataframe\">\n",
       "  <thead>\n",
       "    <tr style=\"text-align: right;\">\n",
       "      <th></th>\n",
       "      <th>line</th>\n",
       "      <th>sample</th>\n",
       "      <th>line_diff</th>\n",
       "      <th>sample_diff</th>\n",
       "      <th>pos_x_diff</th>\n",
       "      <th>pos_y_diff</th>\n",
       "      <th>pos_z_diff</th>\n",
       "      <th>look_x_diff</th>\n",
       "      <th>look_y_diff</th>\n",
       "      <th>look_z_diff</th>\n",
       "    </tr>\n",
       "  </thead>\n",
       "  <tbody>\n",
       "    <tr>\n",
       "      <th>0</th>\n",
       "      <td>1.0</td>\n",
       "      <td>1.0</td>\n",
       "      <td>0.727812</td>\n",
       "      <td>1.551868</td>\n",
       "      <td>-126.014844</td>\n",
       "      <td>789.969391</td>\n",
       "      <td>-194.541009</td>\n",
       "      <td>-0.040119</td>\n",
       "      <td>-0.025546</td>\n",
       "      <td>-0.003046</td>\n",
       "    </tr>\n",
       "    <tr>\n",
       "      <th>1</th>\n",
       "      <td>1.0</td>\n",
       "      <td>1024.0</td>\n",
       "      <td>0.268634</td>\n",
       "      <td>1.160999</td>\n",
       "      <td>-126.014844</td>\n",
       "      <td>789.969391</td>\n",
       "      <td>-194.541009</td>\n",
       "      <td>0.040262</td>\n",
       "      <td>0.025289</td>\n",
       "      <td>0.000767</td>\n",
       "    </tr>\n",
       "    <tr>\n",
       "      <th>2</th>\n",
       "      <td>1024.0</td>\n",
       "      <td>1.0</td>\n",
       "      <td>0.951262</td>\n",
       "      <td>2.010392</td>\n",
       "      <td>-126.014844</td>\n",
       "      <td>789.969391</td>\n",
       "      <td>-194.541009</td>\n",
       "      <td>-0.040060</td>\n",
       "      <td>-0.025722</td>\n",
       "      <td>-0.003024</td>\n",
       "    </tr>\n",
       "    <tr>\n",
       "      <th>3</th>\n",
       "      <td>1024.0</td>\n",
       "      <td>1024.0</td>\n",
       "      <td>0.497614</td>\n",
       "      <td>1.622388</td>\n",
       "      <td>-126.014844</td>\n",
       "      <td>789.969391</td>\n",
       "      <td>-194.541009</td>\n",
       "      <td>0.040320</td>\n",
       "      <td>0.025114</td>\n",
       "      <td>0.000789</td>\n",
       "    </tr>\n",
       "    <tr>\n",
       "      <th>4</th>\n",
       "      <td>512.0</td>\n",
       "      <td>512.0</td>\n",
       "      <td>0.570364</td>\n",
       "      <td>1.567242</td>\n",
       "      <td>-126.014844</td>\n",
       "      <td>789.969391</td>\n",
       "      <td>-194.541009</td>\n",
       "      <td>0.000014</td>\n",
       "      <td>-0.000251</td>\n",
       "      <td>-0.000001</td>\n",
       "    </tr>\n",
       "  </tbody>\n",
       "</table>\n",
       "</div>"
      ],
      "text/plain": [
       "     line  sample  line_diff  sample_diff  pos_x_diff  pos_y_diff  pos_z_diff  \\\n",
       "0     1.0     1.0   0.727812     1.551868 -126.014844  789.969391 -194.541009   \n",
       "1     1.0  1024.0   0.268634     1.160999 -126.014844  789.969391 -194.541009   \n",
       "2  1024.0     1.0   0.951262     2.010392 -126.014844  789.969391 -194.541009   \n",
       "3  1024.0  1024.0   0.497614     1.622388 -126.014844  789.969391 -194.541009   \n",
       "4   512.0   512.0   0.570364     1.567242 -126.014844  789.969391 -194.541009   \n",
       "\n",
       "   look_x_diff  look_y_diff  look_z_diff  \n",
       "0    -0.040119    -0.025546    -0.003046  \n",
       "1     0.040262     0.025289     0.000767  \n",
       "2    -0.040060    -0.025722    -0.003024  \n",
       "3     0.040320     0.025114     0.000789  \n",
       "4     0.000014    -0.000251    -0.000001  "
      ]
     },
     "execution_count": 7,
     "metadata": {},
     "output_type": "execute_result"
    }
   ],
   "source": [
    "pixels_dict = {'line' : [1,1,n_lines, n_lines, n_lines/2],\n",
    "               'sample' : [1, n_samples, 1, n_samples, n_samples/2]}\n",
    "\n",
    "pixels_df = pd.DataFrame.from_dict(pixels_dict)\n",
    "pixels_df['line_diff'] = np.NaN\n",
    "pixels_df['sample_diff'] = np.NaN\n",
    "pixels_df['pos_x_diff'] = np.NaN\n",
    "pixels_df['pos_y_diff'] = np.NaN\n",
    "pixels_df['pos_z_diff'] = np.NaN\n",
    "pixels_df['look_x_diff'] = np.NaN\n",
    "pixels_df['look_y_diff'] = np.NaN\n",
    "pixels_df['look_z_diff'] = np.NaN\n",
    "\n",
    "for idx, row in pixels_df.iterrows():\n",
    "    pixels_df.iloc[idx]['line_diff'], pixels_df.iloc[idx]['sample_diff'] = check_pixel(camera, cub_loc, row['line'], row['sample'])\n",
    "    diff_position, diff_look = check_orientation(camera, cub_loc, row['line'], row['sample'])\n",
    "    pixels_df.iloc[idx]['pos_x_diff'] = diff_position[0]\n",
    "    pixels_df.iloc[idx]['pos_y_diff'] = diff_position[1]\n",
    "    pixels_df.iloc[idx]['pos_z_diff'] = diff_position[2]\n",
    "    pixels_df.iloc[idx]['look_x_diff'] = diff_look[0]\n",
    "    pixels_df.iloc[idx]['look_y_diff'] = diff_look[1]\n",
    "    pixels_df.iloc[idx]['look_z_diff'] = diff_look[2]\n",
    "\n",
    "pixels_df"
   ]
  },
  {
   "cell_type": "code",
   "execution_count": null,
   "metadata": {},
   "outputs": [],
   "source": []
  }
 ],
 "metadata": {
  "kernelspec": {
   "display_name": "Python 3",
   "language": "python",
   "name": "python3"
  },
  "language_info": {
   "codemirror_mode": {
    "name": "ipython",
    "version": 3
   },
   "file_extension": ".py",
   "mimetype": "text/x-python",
   "name": "python",
   "nbconvert_exporter": "python",
   "pygments_lexer": "ipython3",
   "version": "3.7.3"
  }
 },
 "nbformat": 4,
 "nbformat_minor": 2
}
