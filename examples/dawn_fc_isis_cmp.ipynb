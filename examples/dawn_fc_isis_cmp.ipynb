{
 "cells": [
  {
   "cell_type": "markdown",
   "metadata": {},
   "source": [
    "# Comparing a USGSCSM and ISIS camera for Dawn FC"
   ]
  },
  {
   "cell_type": "code",
   "execution_count": null,
   "metadata": {},
   "outputs": [],
   "source": [
    "import pvl\n",
    "import numpy as np\n",
    "import os\n",
    "import pandas as pd\n",
    "import knoten\n",
    "import csmapi\n",
    "import pyproj\n",
    "\n",
    "from ale import vis\n",
    "\n",
    "from pysis import isis\n",
    "from pysis.exceptions import ProcessError"
   ]
  },
  {
   "cell_type": "markdown",
   "metadata": {},
   "source": [
    "## Make a CSM sensor model"
   ]
  },
  {
   "cell_type": "code",
   "execution_count": null,
   "metadata": {},
   "outputs": [],
   "source": [
    "imageLink = 'https://pdsimage.wr.usgs.gov/Missions/Dawn/Ceres/DWNCSFC2_1A/DATA/IMG/20150604_SURVEY/20150617_CYCLE5/FC21A0038582_15170161546F6F.IMG'\n",
    "!wget -N -P data/ {imageLink}\n",
    "fileName = 'data/' + os.path.split(imageLink)[1]\n",
    "\n",
    "camera = knoten.csm.create_csm(fileName)"
   ]
  },
  {
   "cell_type": "markdown",
   "metadata": {},
   "source": [
    "## Ingest the image and spiceinit"
   ]
  },
  {
   "cell_type": "code",
   "execution_count": null,
   "metadata": {},
   "outputs": [],
   "source": [
    "# Set the output location of the resulting .cub\n",
    "cub_loc = os.path.splitext(fileName)[0] + '.cub'\n",
    "\n",
    "try: \n",
    "    isis.dawnfc2isis(from_=fileName, to=cub_loc)\n",
    "except ProcessError as e:\n",
    "    print(e.stderr)\n",
    "\n",
    "try:\n",
    "    isis.spiceinit(from_=cub_loc, shape='ellipsoid')\n",
    "except ProcessError as e:\n",
    "    print(e.stderr)"
   ]
  },
  {
   "cell_type": "markdown",
   "metadata": {},
   "source": [
    "## Define a function that compares ISIS and USGSCSM pixels"
   ]
  },
  {
   "cell_type": "code",
   "execution_count": null,
   "metadata": {},
   "outputs": [],
   "source": [
    "def check_pixel_isis_ground(camera, cub, line, sample):\n",
    "    \"\"\"Compares ISIS and USGSCSM pixel.\n",
    "    \n",
    "    Takes an image coordinate, projects it to a ground point using ISIS, then projects\n",
    "    the result back into an image coordinate using USGSCSM and computes the difference\n",
    "    between image coordinates.\n",
    "    \"\"\"\n",
    "    try:\n",
    "        output = isis.campt(from_=cub, line=line, sample=sample, allowoutside='Yes')\n",
    "    except ProcessError as e:\n",
    "        print(e.stderr)\n",
    "        return np.NaN, np.NaN\n",
    "    pvl_output = pvl.loads(output)\n",
    "    bodyfixed = pvl_output['GroundPoint']['BodyFixedCoordinate']\n",
    "    bodyfixed = np.asarray(bodyfixed.value) * 1000\n",
    "    image_coord = camera.groundToImage(csmapi.EcefCoord(*bodyfixed))\n",
    "    # (.5,.5) in CSM == (1,1) in ISIS, so we have to subtract (.5,.5) from the ISIS pixels\n",
    "    line_diff = line - image_coord.line - .5\n",
    "    sample_diff = sample - image_coord.samp - .5\n",
    "    return line_diff, sample_diff\n",
    "\n",
    "def check_pixel_csm_ground(camera, cub, line, sample):\n",
    "    \"\"\"Compares USGSCSM pixel to ISIS.\n",
    "    \n",
    "    Takes an image coordinate, projects it to a ground point using CSM, then projects\n",
    "    the result back into an image coordinate using ISIS and computes the difference\n",
    "    between image coordinates.\n",
    "    \"\"\"\n",
    "    image_coord = csmapi.ImageCoord(line, sample)\n",
    "    ecef_coord = camera.imageToGround(image_coord, 0.0)\n",
    "    \n",
    "    def ecef_to_lla(camera, ecef_coord):\n",
    "        semi_major, semi_minor = knoten.csm.get_radii(camera)\n",
    "        ecef = pyproj.Proj(proj='geocent', a=semi_major, b=semi_minor)\n",
    "        lla = pyproj.Proj(proj='latlong', a=semi_major, b=semi_minor)\n",
    "        lon, lat, alt = pyproj.transform(ecef, lla, ecef_coord.x, ecef_coord.y, ecef_coord.z)\n",
    "        return lon, lat, alt\n",
    "    \n",
    "    lon, lat, _ = ecef_to_lla(camera, ecef_coord)\n",
    "    try:\n",
    "        output = isis.campt(from_=cub, type='ground', latitude=lat, longitude=lon, allowoutside='Yes')\n",
    "        pvl_output = pvl.loads(output)\n",
    "        isis_line = pvl_output['GroundPoint']['Line']\n",
    "        isis_sample = pvl_output['GroundPoint']['Sample']\n",
    "    except ProcessError as e:\n",
    "        print(e)\n",
    "        isis_line = np.NaN\n",
    "        isis_sample = np.NaN\n",
    "    # (.5,.5) in CSM == (1,1) in ISIS, so we have to add (.5,.5) from the ISIS pixels\n",
    "    line_diff = isis_line - image_coord.line + .5\n",
    "    sample_diff = isis_sample - image_coord.samp + .5\n",
    "    return line_diff, sample_diff"
   ]
  },
  {
   "cell_type": "code",
   "execution_count": null,
   "metadata": {},
   "outputs": [],
   "source": [
    "def check_orientation(camera, cub, line, sample):\n",
    "    try:\n",
    "        output = isis.campt(from_=cub, line=line, sample=sample)\n",
    "    except ProcessError as e:\n",
    "        print(e.stderr)\n",
    "        return [np.NaN, np.NaN, np.NaN], [np.NaN, np.NaN, np.NaN]\n",
    "    pvl_output = pvl.loads(output)\n",
    "    isis_position = np.array(pvl_output['GroundPoint']['SpacecraftPosition'].value) * 1000\n",
    "    isis_look = np.array(pvl_output['GroundPoint']['LookDirectionBodyFixed'])\n",
    "    csm_locus = camera.imageToRemoteImagingLocus(csmapi.ImageCoord(line - 0.5, sample - 0.5))\n",
    "    csm_position = np.array([csm_locus.point.x, csm_locus.point.y, csm_locus.point.z])\n",
    "    csm_look = np.array([csm_locus.direction.x, csm_locus.direction.y, csm_locus.direction.z])\n",
    "    diff_position = isis_position - csm_position\n",
    "    diff_look = isis_look - csm_look\n",
    "    return diff_position, diff_look"
   ]
  },
  {
   "cell_type": "markdown",
   "metadata": {},
   "source": [
    "## Get the total number of lines / samples"
   ]
  },
  {
   "cell_type": "code",
   "execution_count": null,
   "metadata": {},
   "outputs": [],
   "source": [
    "isis_label = pvl.load(cub_loc)\n",
    "n_samples = isis_label['IsisCube']['Core']['Dimensions']['Samples']\n",
    "n_lines = isis_label['IsisCube']['Core']['Dimensions']['Lines']"
   ]
  },
  {
   "cell_type": "markdown",
   "metadata": {},
   "source": [
    "## Compare top left, top right, bottom left, bottom right, and center pixels using check_pixel"
   ]
  },
  {
   "cell_type": "code",
   "execution_count": null,
   "metadata": {
    "scrolled": true
   },
   "outputs": [],
   "source": [
    "pixels_dict = {'line' : [0,0,n_lines, n_lines, n_lines/2],\n",
    "               'sample' : [0, n_samples, 0, n_samples, n_samples/2]}\n",
    "\n",
    "pixels_df = pd.DataFrame.from_dict(pixels_dict)\n",
    "pixels_df['line_diff'] = np.NaN\n",
    "pixels_df['sample_diff'] = np.NaN\n",
    "pixels_df['pos_x_diff'] = np.NaN\n",
    "pixels_df['pos_y_diff'] = np.NaN\n",
    "pixels_df['pos_z_diff'] = np.NaN\n",
    "pixels_df['look_x_diff'] = np.NaN\n",
    "pixels_df['look_y_diff'] = np.NaN\n",
    "pixels_df['look_z_diff'] = np.NaN\n",
    "\n",
    "for idx, row in pixels_df.iterrows():\n",
    "    pixels_df.iloc[idx]['line_diff'], pixels_df.iloc[idx]['sample_diff'] = check_pixel_isis_ground(camera, cub_loc, row['line'], row['sample'])\n",
    "    diff_position, diff_look = check_orientation(camera, cub_loc, row['line'], row['sample'])\n",
    "    pixels_df.iloc[idx]['pos_x_diff'] = diff_position[0]\n",
    "    pixels_df.iloc[idx]['pos_y_diff'] = diff_position[1]\n",
    "    pixels_df.iloc[idx]['pos_z_diff'] = diff_position[2]\n",
    "    pixels_df.iloc[idx]['look_x_diff'] = diff_look[0]\n",
    "    pixels_df.iloc[idx]['look_y_diff'] = diff_look[1]\n",
    "    pixels_df.iloc[idx]['look_z_diff'] = diff_look[2]\n",
    "\n",
    "pixels_df"
   ]
  },
  {
   "cell_type": "markdown",
   "metadata": {},
   "source": [
    "## Generate a more detailed comparison\n",
    "The level of detailed can be changed through the nx and ny variables in the reprojection_diff function"
   ]
  },
  {
   "cell_type": "code",
   "execution_count": null,
   "metadata": {
    "scrolled": false
   },
   "outputs": [],
   "source": [
    "csm_isd = os.path.splitext(fileName)[0] + '.json'\n",
    "\n",
    "plot1, plot2, plot3, df1, df2, df3 = vis.reprojection_diff(csm_isd, cub_loc, nx=4, ny=8)\n",
    "(plot1+plot2+plot3).cols(2)"
   ]
  },
  {
   "cell_type": "code",
   "execution_count": null,
   "metadata": {},
   "outputs": [],
   "source": []
  }
 ],
 "metadata": {
  "kernelspec": {
   "display_name": "Python 3",
   "language": "python",
   "name": "python3"
  },
  "language_info": {
   "codemirror_mode": {
    "name": "ipython",
    "version": 3
   },
   "file_extension": ".py",
   "mimetype": "text/x-python",
   "name": "python",
   "nbconvert_exporter": "python",
   "pygments_lexer": "ipython3",
   "version": "3.7.3"
  }
 },
 "nbformat": 4,
 "nbformat_minor": 2
}
