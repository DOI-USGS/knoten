{
 "cells": [
  {
   "cell_type": "markdown",
   "metadata": {},
   "source": [
    "# Comparing a USGSCSM and ISIS camera for Dejittered HiRISE image"
   ]
  },
  {
   "cell_type": "code",
   "execution_count": 1,
   "metadata": {},
   "outputs": [],
   "source": [
    "import pyproj\n",
    "import pvl\n",
    "import numpy as np\n",
    "import os\n",
    "import pandas as pd\n",
    "import json\n",
    "import knoten\n",
    "import csmapi\n",
    "\n",
    "os.environ['ISISROOT'] = '/usgs/pkgs/isis3.8.0_RC1/install'\n",
    "from pysis import isis\n",
    "from pysis.exceptions import ProcessError"
   ]
  },
  {
   "cell_type": "markdown",
   "metadata": {},
   "source": [
    "## Update the ISIS cube\n",
    "Requires ESP_016076_2175_REDmos_hijitreged.balance.noproj.8bit.cub in data directory\n",
    "\n",
    "We also have to set the shapemodel to the ellipsoid because CSM does not natively support DEM intersections"
   ]
  },
  {
   "cell_type": "code",
   "execution_count": 2,
   "metadata": {},
   "outputs": [],
   "source": [
    "cub_loc = 'data/ESP_016076_2175_REDmos_hijitreged.balance.noproj.8bit.cub'\n",
    "try:\n",
    "    isis.editlab(from_=cub_loc, grpname='Kernels', Keyword='ShapeModel', value='Null')\n",
    "except ProcessError as e:\n",
    "        print(f'Failed to set shapemodel for {cub_loc} to ellipsoid:\\n{e.stderr}')"
   ]
  },
  {
   "cell_type": "markdown",
   "metadata": {},
   "source": [
    "## Make a CSM sensor model"
   ]
  },
  {
   "cell_type": "code",
   "execution_count": 3,
   "metadata": {},
   "outputs": [],
   "source": [
    "camera = knoten.csm.create_csm(cub_loc)"
   ]
  },
  {
   "cell_type": "markdown",
   "metadata": {},
   "source": [
    "## Get the total number of lines / samples"
   ]
  },
  {
   "cell_type": "code",
   "execution_count": 4,
   "metadata": {},
   "outputs": [],
   "source": [
    "isis_label = pvl.load(cub_loc)\n",
    "n_samples = isis_label['IsisCube']['Core']['Dimensions']['Samples']\n",
    "n_lines = isis_label['IsisCube']['Core']['Dimensions']['Lines']"
   ]
  },
  {
   "cell_type": "markdown",
   "metadata": {},
   "source": [
    "## Define functions that compare ISIS and USGSCSM pixels"
   ]
  },
  {
   "cell_type": "code",
   "execution_count": 5,
   "metadata": {},
   "outputs": [],
   "source": [
    "def check_pixel_isis_ground(camera, cub, line, sample):\n",
    "    \"\"\"Compares ISIS and USGSCSM pixel.\n",
    "    \n",
    "    Takes an image coordinate, projects it to a ground point using ISIS, then projects\n",
    "    the result back into an image coordinate using USGSCSM and computes the difference\n",
    "    between image coordinates.\n",
    "    \"\"\"\n",
    "    output = isis.campt(from_=cub, line=line, sample=sample)\n",
    "    pvl_output = pvl.loads(output)\n",
    "    bodyfixed = pvl_output['GroundPoint']['BodyFixedCoordinate']\n",
    "    bodyfixed = np.asarray(bodyfixed.value) * 1000\n",
    "    coord = csmapi.EcefCoord(*bodyfixed)\n",
    "    image_coord = camera.groundToImage(csmapi.EcefCoord(*bodyfixed))\n",
    "    # (.5,.5) in CSM == (1,1) in ISIS, so we have to subtract (.5,.5) from the ISIS pixels\n",
    "    line_diff = line - image_coord.line - .5\n",
    "    sample_diff = sample - image_coord.samp - .5\n",
    "    return line_diff, sample_diff"
   ]
  },
  {
   "cell_type": "code",
   "execution_count": 6,
   "metadata": {},
   "outputs": [],
   "source": [
    "def check_pixel_csm_ground(camera, cub, line, sample):\n",
    "    \"\"\"Compares ISIS and USGSCSM pixel.\n",
    "    \n",
    "    Takes an image coordinate, projects it to a ground point using CSM, then projects\n",
    "    the result back into an image coordinate using ISIS and computes the difference\n",
    "    between image coordinates.\n",
    "    \n",
    "    \"\"\"\n",
    "    # Create an image coordinate based on line and sample\n",
    "    image_coord = csmapi.ImageCoord(line, sample)\n",
    "    \n",
    "    # Project image coordinate to a ground point\n",
    "    out = camera.imageToGround(image_coord, 0.0)\n",
    "    \n",
    "    # Results of imageToGround are ECEF, campt requires lat/lon\n",
    "    a_rad, b_rad = knoten.csm.get_radii(camera)\n",
    "    lon,lat,_ = ecef_to_lla(out.x, out.y, out.z, a_rad, b_rad)\n",
    "\n",
    "    # campt requires positive east 360\n",
    "    lon = (lon+360)%360\n",
    "    \n",
    "    try:\n",
    "        pvl_output = isis.campt(from_=cub_loc, type='ground', latitude=lat, longitude=lon, allowoutside=True)\n",
    "        output = pvl.loads(pvl_output)\n",
    "        isis_line = output['GroundPoint']['Line']\n",
    "        isis_sample = output['GroundPoint']['Sample']\n",
    "        # (.5,.5) in CSM == (1,1) in ISIS, so we have to add (.5,.5) to the CSM pixels\n",
    "        line_diff = line - isis_line +.5\n",
    "        sample_diff = sample - isis_sample +.5\n",
    "    except ProcessError as e:\n",
    "        print(f'({line}, {sample}): {e.stderr}')\n",
    "        line_diff = np.NaN\n",
    "        sample_diff = np.NaN\n",
    "        \n",
    "    return line_diff, sample_diff\n",
    "    "
   ]
  },
  {
   "cell_type": "code",
   "execution_count": 7,
   "metadata": {},
   "outputs": [],
   "source": [
    "def ecef_to_lla(x, y, z, a_radius, b_radius):\n",
    "    \"\"\" Converts from earth-centric, earth-fixed to lat, lon, altitude\n",
    "    \"\"\"\n",
    "    ecef = pyproj.Proj(proj='geocent', a=a_radius, b=a_radius)\n",
    "    lla = pyproj.Proj(proj='latlong',  a=a_radius, b=a_radius)\n",
    "    \n",
    "    lon, lat, alt = pyproj.transform(ecef, lla, x, y, z)\n",
    "    # convert planetographic to planetocentric\n",
    "#     lat = np.degrees(np.arctan(np.tan(np.radians(lat))*(b_radius/a_radius)*(b_radius/a_radius)))\n",
    "    return lon, lat, alt"
   ]
  },
  {
   "cell_type": "markdown",
   "metadata": {},
   "source": [
    "## Compare top left, top right, bottom left, bottom right, and center pixels using check_pixel"
   ]
  },
  {
   "cell_type": "code",
   "execution_count": 8,
   "metadata": {
    "scrolled": true
   },
   "outputs": [],
   "source": [
    "line_mesh, sample_mesh = np.meshgrid(np.linspace(1, n_lines-0.1, 50), np.linspace(1, n_samples, 5))\n",
    "line_vec = line_mesh.flatten()\n",
    "sample_vec = sample_mesh.flatten()\n",
    "pixels_dict = {'line' : line_vec,\n",
    "               'sample' : sample_vec}\n",
    "\n",
    "# Create a dataframe to store the results of pixel comparison\n",
    "pixels_df = pd.DataFrame.from_dict(pixels_dict)\n",
    "pixels_df['line_diff_csm_ground'] = np.NaN\n",
    "pixels_df['sample_diff_csm_ground'] = np.NaN\n",
    "pixels_df['line_diff_isis_ground'] = np.NaN\n",
    "pixels_df['sample_diff_isis_ground'] = np.NaN\n",
    "\n",
    "for idx, row in pixels_df.iterrows():\n",
    "    pixels_df.iloc[idx]['line_diff_isis_ground'], pixels_df.iloc[idx]['sample_diff_isis_ground'] = check_pixel_isis_ground(camera, cub_loc, row['line'], row['sample'])\n",
    "    pixels_df.iloc[idx]['line_diff_csm_ground'], pixels_df.iloc[idx]['sample_diff_csm_ground'] = check_pixel_csm_ground(camera, cub_loc, row['line'], row['sample'])"
   ]
  },
  {
   "cell_type": "code",
   "execution_count": 9,
   "metadata": {},
   "outputs": [
    {
     "data": {
      "text/html": [
       "<div>\n",
       "<style scoped>\n",
       "    .dataframe tbody tr th:only-of-type {\n",
       "        vertical-align: middle;\n",
       "    }\n",
       "\n",
       "    .dataframe tbody tr th {\n",
       "        vertical-align: top;\n",
       "    }\n",
       "\n",
       "    .dataframe thead th {\n",
       "        text-align: right;\n",
       "    }\n",
       "</style>\n",
       "<table border=\"1\" class=\"dataframe\">\n",
       "  <thead>\n",
       "    <tr style=\"text-align: right;\">\n",
       "      <th></th>\n",
       "      <th>line</th>\n",
       "      <th>sample</th>\n",
       "      <th>line_diff_csm_ground</th>\n",
       "      <th>sample_diff_csm_ground</th>\n",
       "      <th>line_diff_isis_ground</th>\n",
       "      <th>sample_diff_isis_ground</th>\n",
       "    </tr>\n",
       "  </thead>\n",
       "  <tbody>\n",
       "    <tr>\n",
       "      <th>count</th>\n",
       "      <td>250.000000</td>\n",
       "      <td>250.000000</td>\n",
       "      <td>250.000000</td>\n",
       "      <td>250.000000</td>\n",
       "      <td>250.000000</td>\n",
       "      <td>250.000000</td>\n",
       "    </tr>\n",
       "    <tr>\n",
       "      <th>mean</th>\n",
       "      <td>22500.450000</td>\n",
       "      <td>10000.500000</td>\n",
       "      <td>0.002572</td>\n",
       "      <td>0.000037</td>\n",
       "      <td>-0.002846</td>\n",
       "      <td>-0.000069</td>\n",
       "    </tr>\n",
       "    <tr>\n",
       "      <th>std</th>\n",
       "      <td>13279.100365</td>\n",
       "      <td>7084.898253</td>\n",
       "      <td>0.001695</td>\n",
       "      <td>0.000230</td>\n",
       "      <td>0.001777</td>\n",
       "      <td>0.000259</td>\n",
       "    </tr>\n",
       "    <tr>\n",
       "      <th>min</th>\n",
       "      <td>1.000000</td>\n",
       "      <td>1.000000</td>\n",
       "      <td>-0.000137</td>\n",
       "      <td>-0.000591</td>\n",
       "      <td>-0.007473</td>\n",
       "      <td>-0.000733</td>\n",
       "    </tr>\n",
       "    <tr>\n",
       "      <th>25%</th>\n",
       "      <td>11021.138776</td>\n",
       "      <td>5000.750000</td>\n",
       "      <td>0.001113</td>\n",
       "      <td>-0.000081</td>\n",
       "      <td>-0.004117</td>\n",
       "      <td>-0.000169</td>\n",
       "    </tr>\n",
       "    <tr>\n",
       "      <th>50%</th>\n",
       "      <td>22500.450000</td>\n",
       "      <td>10000.500000</td>\n",
       "      <td>0.002469</td>\n",
       "      <td>0.000028</td>\n",
       "      <td>-0.002765</td>\n",
       "      <td>-0.000015</td>\n",
       "    </tr>\n",
       "    <tr>\n",
       "      <th>75%</th>\n",
       "      <td>33979.761224</td>\n",
       "      <td>15000.250000</td>\n",
       "      <td>0.003775</td>\n",
       "      <td>0.000188</td>\n",
       "      <td>-0.001340</td>\n",
       "      <td>0.000090</td>\n",
       "    </tr>\n",
       "    <tr>\n",
       "      <th>max</th>\n",
       "      <td>44999.900000</td>\n",
       "      <td>20000.000000</td>\n",
       "      <td>0.006773</td>\n",
       "      <td>0.000574</td>\n",
       "      <td>0.000064</td>\n",
       "      <td>0.000447</td>\n",
       "    </tr>\n",
       "  </tbody>\n",
       "</table>\n",
       "</div>"
      ],
      "text/plain": [
       "               line        sample  line_diff_csm_ground  \\\n",
       "count    250.000000    250.000000            250.000000   \n",
       "mean   22500.450000  10000.500000              0.002572   \n",
       "std    13279.100365   7084.898253              0.001695   \n",
       "min        1.000000      1.000000             -0.000137   \n",
       "25%    11021.138776   5000.750000              0.001113   \n",
       "50%    22500.450000  10000.500000              0.002469   \n",
       "75%    33979.761224  15000.250000              0.003775   \n",
       "max    44999.900000  20000.000000              0.006773   \n",
       "\n",
       "       sample_diff_csm_ground  line_diff_isis_ground  sample_diff_isis_ground  \n",
       "count              250.000000             250.000000               250.000000  \n",
       "mean                 0.000037              -0.002846                -0.000069  \n",
       "std                  0.000230               0.001777                 0.000259  \n",
       "min                 -0.000591              -0.007473                -0.000733  \n",
       "25%                 -0.000081              -0.004117                -0.000169  \n",
       "50%                  0.000028              -0.002765                -0.000015  \n",
       "75%                  0.000188              -0.001340                 0.000090  \n",
       "max                  0.000574               0.000064                 0.000447  "
      ]
     },
     "execution_count": 9,
     "metadata": {},
     "output_type": "execute_result"
    }
   ],
   "source": [
    "pixels_df.describe()"
   ]
  },
  {
   "cell_type": "code",
   "execution_count": null,
   "metadata": {},
   "outputs": [],
   "source": []
  }
 ],
 "metadata": {
  "kernelspec": {
   "display_name": "Python 3",
   "language": "python",
   "name": "python3"
  },
  "language_info": {
   "codemirror_mode": {
    "name": "ipython",
    "version": 3
   },
   "file_extension": ".py",
   "mimetype": "text/x-python",
   "name": "python",
   "nbconvert_exporter": "python",
   "pygments_lexer": "ipython3",
   "version": "3.7.3"
  }
 },
 "nbformat": 4,
 "nbformat_minor": 2
}
