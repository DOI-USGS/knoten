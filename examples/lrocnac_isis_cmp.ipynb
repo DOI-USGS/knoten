{
 "cells": [
  {
   "cell_type": "markdown",
   "metadata": {},
   "source": [
    "# Writing out a USGSCSM ISD from a PDS3 LROCNAC image"
   ]
  },
  {
   "cell_type": "code",
   "execution_count": 1,
   "metadata": {},
   "outputs": [],
   "source": [
    "import pvl\n",
    "import numpy as np\n",
    "import os\n",
    "import pandas as pd\n",
    "import knoten\n",
    "import csmapi\n",
    "\n",
    "os.environ['ISISROOT'] = '/usgs/pkgs/isis3.8.0_RC1/install'\n",
    "from pysis import isis\n",
    "from pysis.exceptions import ProcessError"
   ]
  },
  {
   "cell_type": "markdown",
   "metadata": {},
   "source": [
    "## Make a CSM sensor model\n",
    "imageLink must contain a URL to an LROCNAC image ending in the file name"
   ]
  },
  {
   "cell_type": "code",
   "execution_count": 2,
   "metadata": {},
   "outputs": [
    {
     "name": "stdout",
     "output_type": "stream",
     "text": [
      "--2019-07-16 12:55:22--  http://pdsimage.wr.usgs.gov/Missions/Lunar_Reconnaissance_Orbiter/LROC/EDR/LROLRC_0018/DATA/EXT/2013354/NAC/M1142142198RE.IMG\n",
      "Resolving pdsimage.wr.usgs.gov (pdsimage.wr.usgs.gov)... 8.27.177.76, 2001:1900:2200:19ff::76\n",
      "Connecting to pdsimage.wr.usgs.gov (pdsimage.wr.usgs.gov)|8.27.177.76|:80... connected.\n",
      "HTTP request sent, awaiting response... 302 Found\n",
      "Location: https://pdsimage2.wr.usgs.gov/Missions/Lunar_Reconnaissance_Orbiter/LROC/EDR/LROLRC_0018/DATA/EXT/2013354/NAC/M1142142198RE.IMG [following]\n",
      "--2019-07-16 12:55:22--  https://pdsimage2.wr.usgs.gov/Missions/Lunar_Reconnaissance_Orbiter/LROC/EDR/LROLRC_0018/DATA/EXT/2013354/NAC/M1142142198RE.IMG\n",
      "Resolving pdsimage2.wr.usgs.gov (pdsimage2.wr.usgs.gov)... 8.27.177.76, 2001:1900:2200:19ff::76\n",
      "Connecting to pdsimage2.wr.usgs.gov (pdsimage2.wr.usgs.gov)|8.27.177.76|:443... connected.\n",
      "HTTP request sent, awaiting response... 200 OK\n",
      "Length: 259281864 (247M) [application/octet-stream]\n",
      "Server file no newer than local file ‘data/M1142142198RE.IMG’ -- not retrieving.\n",
      "\n"
     ]
    }
   ],
   "source": [
    "imageLink = 'http://pdsimage.wr.usgs.gov/Missions/Lunar_Reconnaissance_Orbiter/LROC/EDR/LROLRC_0018/DATA/EXT/2013354/NAC/M1142142198RE.IMG'\n",
    "!wget -N -P data {imageLink}\n",
    "fileName = 'data/' + os.path.split(imageLink)[1]\n",
    "camera = knoten.csm.create_csm(fileName)"
   ]
  },
  {
   "cell_type": "markdown",
   "metadata": {},
   "source": [
    "## Ingest the image and spiceinit"
   ]
  },
  {
   "cell_type": "code",
   "execution_count": 3,
   "metadata": {},
   "outputs": [],
   "source": [
    "# Set the output location of the resulting .cub\n",
    "cub_loc = os.path.splitext(fileName)[0] + '.cub'\n",
    "\n",
    "try: \n",
    "    isis.lronac2isis(from_=fileName, to=cub_loc)\n",
    "except ProcessError as e:\n",
    "    print(e.stderr)\n",
    "\n",
    "try:\n",
    "    isis.spiceinit(from_=cub_loc, shape='ellipsoid')\n",
    "except ProcessError as e:\n",
    "    print(e.stderr)"
   ]
  },
  {
   "cell_type": "markdown",
   "metadata": {},
   "source": [
    "## Define a function that compares ISIS and USGSCSM pixels"
   ]
  },
  {
   "cell_type": "code",
   "execution_count": 4,
   "metadata": {},
   "outputs": [],
   "source": [
    "def check_pixel(camera, cub, line, sample):\n",
    "    \"\"\"Compares ISIS and USGSCSM pixel.\n",
    "    \n",
    "    Takes an image coordinate, projects it to a ground point using ISIS, then projects\n",
    "    the result back into an image coordinate using USGSCSM and computes the difference\n",
    "    between image coordinates.\n",
    "    \"\"\"\n",
    "    output = isis.campt(from_=cub, line=line, sample=sample)\n",
    "    pvl_output = pvl.loads(output)\n",
    "    bodyfixed = pvl_output['GroundPoint']['BodyFixedCoordinate']\n",
    "    bodyfixed = np.asarray(bodyfixed.value) * 1000\n",
    "    image_coord = camera.groundToImage(csmapi.EcefCoord(*bodyfixed))\n",
    "    # (.5,.5) in CSM == (1,1) in ISIS, so we have to subtract (.5,.5) from the ISIS pixels\n",
    "    line_diff = pvl_output['GroundPoint']['Line'] - image_coord.line - .5\n",
    "    sample_diff = pvl_output['GroundPoint']['Sample'] - image_coord.samp - .5\n",
    "    return line_diff, sample_diff"
   ]
  },
  {
   "cell_type": "markdown",
   "metadata": {},
   "source": [
    "## Get the total number of lines / samples"
   ]
  },
  {
   "cell_type": "code",
   "execution_count": 5,
   "metadata": {},
   "outputs": [],
   "source": [
    "isis_label = pvl.load(cub_loc)\n",
    "n_samples = isis_label['IsisCube']['Core']['Dimensions']['Samples']\n",
    "n_lines = isis_label['IsisCube']['Core']['Dimensions']['Lines']"
   ]
  },
  {
   "cell_type": "markdown",
   "metadata": {},
   "source": [
    "## Compare top left, top right, bottom left, bottom right, and center pixels using check_pixel"
   ]
  },
  {
   "cell_type": "code",
   "execution_count": 6,
   "metadata": {
    "scrolled": true
   },
   "outputs": [
    {
     "data": {
      "text/html": [
       "<div>\n",
       "<style scoped>\n",
       "    .dataframe tbody tr th:only-of-type {\n",
       "        vertical-align: middle;\n",
       "    }\n",
       "\n",
       "    .dataframe tbody tr th {\n",
       "        vertical-align: top;\n",
       "    }\n",
       "\n",
       "    .dataframe thead th {\n",
       "        text-align: right;\n",
       "    }\n",
       "</style>\n",
       "<table border=\"1\" class=\"dataframe\">\n",
       "  <thead>\n",
       "    <tr style=\"text-align: right;\">\n",
       "      <th></th>\n",
       "      <th>line</th>\n",
       "      <th>sample</th>\n",
       "      <th>line_diff</th>\n",
       "      <th>sample_diff</th>\n",
       "    </tr>\n",
       "  </thead>\n",
       "  <tbody>\n",
       "    <tr>\n",
       "      <th>0</th>\n",
       "      <td>1.0</td>\n",
       "      <td>1.0</td>\n",
       "      <td>23.101415</td>\n",
       "      <td>-18.007311</td>\n",
       "    </tr>\n",
       "    <tr>\n",
       "      <th>1</th>\n",
       "      <td>1.0</td>\n",
       "      <td>5064.0</td>\n",
       "      <td>11.372646</td>\n",
       "      <td>39.146329</td>\n",
       "    </tr>\n",
       "    <tr>\n",
       "      <th>2</th>\n",
       "      <td>51200.0</td>\n",
       "      <td>1.0</td>\n",
       "      <td>-207.084592</td>\n",
       "      <td>-19.375048</td>\n",
       "    </tr>\n",
       "    <tr>\n",
       "      <th>3</th>\n",
       "      <td>51200.0</td>\n",
       "      <td>5064.0</td>\n",
       "      <td>-219.021746</td>\n",
       "      <td>37.766173</td>\n",
       "    </tr>\n",
       "    <tr>\n",
       "      <th>4</th>\n",
       "      <td>25600.0</td>\n",
       "      <td>2532.0</td>\n",
       "      <td>-97.874974</td>\n",
       "      <td>9.989890</td>\n",
       "    </tr>\n",
       "  </tbody>\n",
       "</table>\n",
       "</div>"
      ],
      "text/plain": [
       "      line  sample   line_diff  sample_diff\n",
       "0      1.0     1.0   23.101415   -18.007311\n",
       "1      1.0  5064.0   11.372646    39.146329\n",
       "2  51200.0     1.0 -207.084592   -19.375048\n",
       "3  51200.0  5064.0 -219.021746    37.766173\n",
       "4  25600.0  2532.0  -97.874974     9.989890"
      ]
     },
     "execution_count": 6,
     "metadata": {},
     "output_type": "execute_result"
    }
   ],
   "source": [
    "pixels_dict = {'line' : [1,1,n_lines, n_lines, n_lines/2],\n",
    "               'sample' : [1, n_samples, 1, n_samples, n_samples/2]}\n",
    "\n",
    "pixels_df = pd.DataFrame.from_dict(pixels_dict)\n",
    "pixels_df['line_diff'] = np.NaN\n",
    "pixels_df['sample_diff'] = np.NaN\n",
    "\n",
    "for idx, row in pixels_df.iterrows():\n",
    "    pixels_df.iloc[idx]['line_diff'], pixels_df.iloc[idx]['sample_diff'] = check_pixel(camera, cub_loc, row['line'], row['sample'])\n",
    "\n",
    "pixels_df"
   ]
  },
  {
   "cell_type": "code",
   "execution_count": null,
   "metadata": {},
   "outputs": [],
   "source": []
  }
 ],
 "metadata": {
  "kernelspec": {
   "display_name": "Python 3",
   "language": "python",
   "name": "python3"
  },
  "language_info": {
   "codemirror_mode": {
    "name": "ipython",
    "version": 3
   },
   "file_extension": ".py",
   "mimetype": "text/x-python",
   "name": "python",
   "nbconvert_exporter": "python",
   "pygments_lexer": "ipython3",
   "version": "3.7.3"
  }
 },
 "nbformat": 4,
 "nbformat_minor": 2
}
